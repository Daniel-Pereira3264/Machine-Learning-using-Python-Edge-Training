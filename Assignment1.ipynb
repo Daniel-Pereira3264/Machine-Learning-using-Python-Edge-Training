{
  "nbformat": 4,
  "nbformat_minor": 0,
  "metadata": {
    "colab": {
      "provenance": [],
      "authorship_tag": "ABX9TyNH8VT+H6QtaK6VLhob35Xx",
      "include_colab_link": true
    },
    "kernelspec": {
      "name": "python3",
      "display_name": "Python 3"
    },
    "language_info": {
      "name": "python"
    }
  },
  "cells": [
    {
      "cell_type": "markdown",
      "metadata": {
        "id": "view-in-github",
        "colab_type": "text"
      },
      "source": [
        "<a href=\"https://colab.research.google.com/github/Daniel-Pereira3264/Machine-Learning-using-Python-Edge-Training/blob/main/Assignment1.ipynb\" target=\"_parent\"><img src=\"https://colab.research.google.com/assets/colab-badge.svg\" alt=\"Open In Colab\"/></a>"
      ]
    },
    {
      "cell_type": "code",
      "execution_count": 1,
      "metadata": {
        "colab": {
          "base_uri": "https://localhost:8080/"
        },
        "id": "DD1jXryH4W3i",
        "outputId": "ef199280-cc00-4a14-83b8-648427fd3d7b"
      },
      "outputs": [
        {
          "output_type": "stream",
          "name": "stdout",
          "text": [
            "Title: To Kill a Mockingbird\n",
            "  Author: Harper Lee\n",
            "  Publication_year: 1960\n",
            "  Summary: The novel is renowned for its warmth and humor, despite dealing with serious issues of rape and racial inequality.\n",
            "\n",
            "Title: 1984\n",
            "  Author: George Orwell\n",
            "  Publication_year: 1949\n",
            "  Summary: A dystopian social science fiction novel and cautionary tale, warning of the dangers of totalitarianism and extreme political ideology.\n",
            "\n",
            "Title: Moby-Dick\n",
            "  Author: Herman Melville\n",
            "  Publication_year: 1851\n",
            "  Summary: The story tells the adventures of wandering sailor Ishmael and his voyage on the whaleship Pequod, commanded by Captain Ahab.\n",
            "\n"
          ]
        }
      ],
      "source": [
        "# Defining the book_collection dictionary\n",
        "book_collection = {\n",
        "    \"To Kill a Mockingbird\": {\n",
        "        \"author\": \"Harper Lee\",\n",
        "        \"publication_year\": 1960,\n",
        "        \"summary\": \"The novel is renowned for its warmth and humor, despite dealing with serious issues of rape and racial inequality.\"\n",
        "    },\n",
        "    \"1984\": {\n",
        "        \"author\": \"George Orwell\",\n",
        "        \"publication_year\": 1949,\n",
        "        \"summary\": \"A dystopian social science fiction novel and cautionary tale, warning of the dangers of totalitarianism and extreme political ideology.\"\n",
        "    },\n",
        "    \"Moby-Dick\": {\n",
        "        \"author\": \"Herman Melville\",\n",
        "        \"publication_year\": 1851,\n",
        "        \"summary\": \"The story tells the adventures of wandering sailor Ishmael and his voyage on the whaleship Pequod, commanded by Captain Ahab.\"\n",
        "    }\n",
        "}\n",
        "\n",
        "# Printing the title of each book alongside all the information stored about it\n",
        "for title, details in book_collection.items():\n",
        "    print(f\"Title: {title}\")\n",
        "    for key, value in details.items():\n",
        "        print(f\"  {key.capitalize()}: {value}\")\n",
        "    print()"
      ]
    }
  ]
}