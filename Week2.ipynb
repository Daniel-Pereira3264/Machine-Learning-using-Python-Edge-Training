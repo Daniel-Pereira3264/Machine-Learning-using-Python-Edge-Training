{
  "nbformat": 4,
  "nbformat_minor": 0,
  "metadata": {
    "colab": {
      "provenance": [],
      "toc_visible": true,
      "authorship_tag": "ABX9TyPx/PtE68vLQkE4S4+tg/O2",
      "include_colab_link": true
    },
    "kernelspec": {
      "name": "python3",
      "display_name": "Python 3"
    },
    "language_info": {
      "name": "python"
    }
  },
  "cells": [
    {
      "cell_type": "markdown",
      "metadata": {
        "id": "view-in-github",
        "colab_type": "text"
      },
      "source": [
        "<a href=\"https://colab.research.google.com/github/Daniel-Pereira3264/Machine-Learning-using-Python-Edge-Training/blob/main/Week2.ipynb\" target=\"_parent\"><img src=\"https://colab.research.google.com/assets/colab-badge.svg\" alt=\"Open In Colab\"/></a>"
      ]
    },
    {
      "cell_type": "markdown",
      "source": [
        "# Week 1 problems\n"
      ],
      "metadata": {
        "id": "vloTQzGntgPE"
      }
    },
    {
      "cell_type": "markdown",
      "source": [
        "Tasks:\n",
        "Count the number of vowels and consonants in the string.\n",
        "\n",
        "Reverse the string.\n",
        "\n",
        "Remove duplicate characters.\n",
        "\n",
        "Find the index of a given substring.\n",
        "\n",
        "Extract a substring using provided indices.\n",
        "\n",
        "Replace occurrences of a given substring with another.\n",
        "\n",
        "Capitalize the first letter of each word.\n",
        "\n",
        "Remove all whitespace characters.\n",
        "\n",
        "Check if the string is a palindrome.\n",
        "\n",
        "Sort the characters in alphabetical order."
      ],
      "metadata": {
        "id": "gB1Dhj__uONj"
      }
    },
    {
      "cell_type": "markdown",
      "source": [
        "1.Count the number of vowels and consonants in the string."
      ],
      "metadata": {
        "id": "tjzOu18Njq2b"
      }
    },
    {
      "cell_type": "code",
      "execution_count": null,
      "metadata": {
        "colab": {
          "base_uri": "https://localhost:8080/"
        },
        "id": "1ihYB3zAhS1c",
        "outputId": "4ee5576c-7523-401a-d17a-f475f7e9e047"
      },
      "outputs": [
        {
          "output_type": "stream",
          "name": "stdout",
          "text": [
            "enter a string\n",
            "daniel\n",
            "Number of Vowels = 3\n",
            "Number of Consonants = 3\n"
          ]
        }
      ],
      "source": [
        "print(\"enter a string\")\n",
        "st = input()\n",
        "vow = ['a','e','i','o','u']\n",
        "vowels = 0\n",
        "consonants = 0\n",
        "for i in range (len(st)):\n",
        "  if(st[i] in vow):\n",
        "    vowels=vowels+1\n",
        "  else:\n",
        "    consonants = consonants+1\n",
        "print(\"Number of Vowels =\",vowels)\n",
        "print(\"Number of Consonants =\",consonants)\n"
      ]
    },
    {
      "cell_type": "markdown",
      "source": [
        "2.Reverse the string."
      ],
      "metadata": {
        "id": "zHwzD5J1vJfz"
      }
    },
    {
      "cell_type": "code",
      "source": [
        "print(\"Enter a string\")\n",
        "st= input()\n",
        "st[::-1]"
      ],
      "metadata": {
        "colab": {
          "base_uri": "https://localhost:8080/",
          "height": 70
        },
        "id": "H22AtGl_vGcr",
        "outputId": "09bb399f-8a2e-496d-8f40-2cb5c7c168d6"
      },
      "execution_count": null,
      "outputs": [
        {
          "name": "stdout",
          "output_type": "stream",
          "text": [
            "Enter a string\n",
            "daniel\n"
          ]
        },
        {
          "output_type": "execute_result",
          "data": {
            "text/plain": [
              "'leinad'"
            ],
            "application/vnd.google.colaboratory.intrinsic+json": {
              "type": "string"
            }
          },
          "metadata": {},
          "execution_count": 24
        }
      ]
    },
    {
      "cell_type": "markdown",
      "source": [
        "# Week 2 practice\n"
      ],
      "metadata": {
        "id": "9YDz6cY6vU48"
      }
    },
    {
      "cell_type": "markdown",
      "source": [
        "1. Create and access list"
      ],
      "metadata": {
        "id": "csNDCjcbvdwc"
      }
    },
    {
      "cell_type": "code",
      "source": [
        "numbers=[1,2,3,4,5]\n",
        "print(\"The Numbers = \",numbers)\n",
        "print(\"First number = \",numbers[0])\n",
        "for i in range (0,len(numbers),2):\n",
        "  print(numbers[i])\n"
      ],
      "metadata": {
        "colab": {
          "base_uri": "https://localhost:8080/"
        },
        "id": "3-Hzyuejvjk8",
        "outputId": "b67eec58-a460-4edc-ea5d-658e8dc41e93"
      },
      "execution_count": null,
      "outputs": [
        {
          "output_type": "stream",
          "name": "stdout",
          "text": [
            "The Numbers =  [1, 2, 3, 4, 5]\n",
            "First number =  1\n",
            "1\n",
            "3\n",
            "5\n"
          ]
        }
      ]
    },
    {
      "cell_type": "markdown",
      "source": [
        "2. Add in list"
      ],
      "metadata": {
        "id": "FpaTTv1rw3QN"
      }
    },
    {
      "cell_type": "code",
      "source": [
        "numbers=[1,2,3,4,5]\n",
        "print(\"The Numbers = \",numbers)\n",
        "print(\"Enter number to add in last\")\n",
        "new=int(input())\n",
        "numbers.append(new)\n",
        "print(\"After adding the number -> Numbers = \",numbers)\n",
        "\n",
        "\n",
        "numbers.extend([7,8,9])\n",
        "print(\"After adding the number -> Numbers = \",numbers)\n",
        "\n",
        "numbers.insert(0,0)\n",
        "print(\"After adding the number -> Numbers = \",numbers)\n"
      ],
      "metadata": {
        "colab": {
          "base_uri": "https://localhost:8080/"
        },
        "id": "4R5J089Sw_Uj",
        "outputId": "7a56b7a3-9b6b-49bc-ba5d-0fecd412ed26"
      },
      "execution_count": null,
      "outputs": [
        {
          "output_type": "stream",
          "name": "stdout",
          "text": [
            "The Numbers =  [1, 2, 3, 4, 5]\n",
            "Enter number to add in last\n",
            "6\n",
            "After adding the number -> Numbers =  [1, 2, 3, 4, 5, 6]\n",
            "After adding the number -> Numbers =  [1, 2, 3, 4, 5, 6, 7, 8, 9]\n",
            "After adding the number -> Numbers =  [0, 1, 2, 3, 4, 5, 6, 7, 8, 9]\n"
          ]
        }
      ]
    },
    {
      "cell_type": "markdown",
      "source": [
        "3. Min , Max, Sum"
      ],
      "metadata": {
        "id": "tPsOOdnFzGrM"
      }
    },
    {
      "cell_type": "code",
      "source": [
        "numbers = [1,2,3,4,5,6,7,8,9]\n",
        "print(max(numbers))\n",
        "print(min(numbers))\n",
        "print(sum(numbers))"
      ],
      "metadata": {
        "colab": {
          "base_uri": "https://localhost:8080/"
        },
        "id": "Acwq7HOgzGHM",
        "outputId": "a422f1b1-f373-4bf3-8b21-cdc7526a6df0"
      },
      "execution_count": null,
      "outputs": [
        {
          "output_type": "stream",
          "name": "stdout",
          "text": [
            "9\n",
            "1\n",
            "45\n"
          ]
        }
      ]
    },
    {
      "cell_type": "markdown",
      "source": [
        "4.Power"
      ],
      "metadata": {
        "id": "OXIA-4Ho1GOU"
      }
    },
    {
      "cell_type": "code",
      "source": [
        "p3 = [value**3 for value in range (1,11)]\n",
        "print(p3)"
      ],
      "metadata": {
        "colab": {
          "base_uri": "https://localhost:8080/"
        },
        "id": "PpOzMLXq1SZ8",
        "outputId": "6167c62d-d2ec-416b-9da0-616b60e48c4d"
      },
      "execution_count": null,
      "outputs": [
        {
          "output_type": "stream",
          "name": "stdout",
          "text": [
            "[1, 8, 27, 64, 125, 216, 343, 512, 729, 1000]\n"
          ]
        }
      ]
    },
    {
      "cell_type": "code",
      "source": [
        "p2 = [value**2 for value in range (1,11,2)]\n",
        "print(p2)"
      ],
      "metadata": {
        "colab": {
          "base_uri": "https://localhost:8080/"
        },
        "id": "IlhBx9gk2FIM",
        "outputId": "86c92c93-2363-4734-d7b7-c4a514b67446"
      },
      "execution_count": null,
      "outputs": [
        {
          "output_type": "stream",
          "name": "stdout",
          "text": [
            "[1, 9, 25, 49, 81]\n"
          ]
        }
      ]
    },
    {
      "cell_type": "markdown",
      "source": [
        "5. Slicing"
      ],
      "metadata": {
        "id": "YBGl_gEi2Wyz"
      }
    },
    {
      "cell_type": "code",
      "source": [
        "items = ['apple', 'orange', 'mango', 'papaya', 'banana']\n",
        "print (items[1:4])"
      ],
      "metadata": {
        "colab": {
          "base_uri": "https://localhost:8080/"
        },
        "id": "_c421q5x2eiB",
        "outputId": "dff5e7c6-ec29-4ff2-d9d0-9bd31a67812d"
      },
      "execution_count": null,
      "outputs": [
        {
          "output_type": "stream",
          "name": "stdout",
          "text": [
            "['orange', 'mango', 'papaya']\n"
          ]
        }
      ]
    },
    {
      "cell_type": "code",
      "source": [
        "items = ['apple', 'orange', 'mango', 'papaya', 'banana']\n",
        "print (items[1:2])"
      ],
      "metadata": {
        "colab": {
          "base_uri": "https://localhost:8080/"
        },
        "id": "YWArQ9nL3bvk",
        "outputId": "58298299-4d25-408b-9cf6-fe23e44db319"
      },
      "execution_count": null,
      "outputs": [
        {
          "output_type": "stream",
          "name": "stdout",
          "text": [
            "['orange']\n"
          ]
        }
      ]
    },
    {
      "cell_type": "code",
      "source": [
        "items = ['apple', 'orange', 'mango', 'papaya', 'banana']\n",
        "print (items[2:3])"
      ],
      "metadata": {
        "colab": {
          "base_uri": "https://localhost:8080/"
        },
        "id": "2hNsOnk73rXs",
        "outputId": "dc27bb68-99ff-4b9c-9b58-c4d4db0166e5"
      },
      "execution_count": null,
      "outputs": [
        {
          "output_type": "stream",
          "name": "stdout",
          "text": [
            "['mango']\n"
          ]
        }
      ]
    },
    {
      "cell_type": "code",
      "source": [
        "items = ['apple', 'orange', 'mango', 'papaya', 'banana']\n",
        "print (items[3:4])"
      ],
      "metadata": {
        "colab": {
          "base_uri": "https://localhost:8080/"
        },
        "id": "3JPMHxj23uVU",
        "outputId": "082202d2-87de-42e3-d736-f4ac317417e3"
      },
      "execution_count": null,
      "outputs": [
        {
          "output_type": "stream",
          "name": "stdout",
          "text": [
            "['papaya']\n"
          ]
        }
      ]
    },
    {
      "cell_type": "code",
      "source": [
        "items = ['apple', 'orange', 'mango', 'papaya', 'banana']\n",
        "for i in range (0,len(items),1):\n",
        "  print (items[i:(i+1)])\n"
      ],
      "metadata": {
        "colab": {
          "base_uri": "https://localhost:8080/"
        },
        "id": "TWHIbzVs39B1",
        "outputId": "e0ceed8f-4f66-495c-b478-a735996152a6"
      },
      "execution_count": null,
      "outputs": [
        {
          "output_type": "stream",
          "name": "stdout",
          "text": [
            "['apple']\n",
            "['orange']\n",
            "['mango']\n",
            "['papaya']\n",
            "['banana']\n"
          ]
        }
      ]
    },
    {
      "cell_type": "markdown",
      "source": [
        "6. Copy list"
      ],
      "metadata": {
        "id": "x39nZEAL3yQ8"
      }
    },
    {
      "cell_type": "code",
      "source": [
        "numbers = [1,2,3,4,5,6,7,8,9]\n",
        "copy = numbers[:]\n",
        "print (copy)\n",
        "copy = numbers[::-1]\n",
        "print (copy)\n",
        "copy = numbers[::-2]\n",
        "print (copy)"
      ],
      "metadata": {
        "colab": {
          "base_uri": "https://localhost:8080/"
        },
        "id": "VQ7-ABvw4bsU",
        "outputId": "8f8d7040-ca06-49fe-fc74-f95f38b8f738"
      },
      "execution_count": null,
      "outputs": [
        {
          "output_type": "stream",
          "name": "stdout",
          "text": [
            "[1, 2, 3, 4, 5, 6, 7, 8, 9]\n",
            "[9, 8, 7, 6, 5, 4, 3, 2, 1]\n",
            "[9, 7, 5, 3, 1]\n"
          ]
        }
      ]
    },
    {
      "cell_type": "markdown",
      "source": [
        "7. Mixed\n"
      ],
      "metadata": {
        "id": "NasJ8W5T54A1"
      }
    },
    {
      "cell_type": "code",
      "source": [
        "mixed = ['a','b',1,2,3,4,5,10.22,0.123456789,'Apple',[11,22,33,44,55]]\n",
        "print(mixed)"
      ],
      "metadata": {
        "colab": {
          "base_uri": "https://localhost:8080/"
        },
        "id": "zQ5P1UOw6Br8",
        "outputId": "1c91aa77-b7c8-441c-9041-fc45436d8e14"
      },
      "execution_count": null,
      "outputs": [
        {
          "output_type": "stream",
          "name": "stdout",
          "text": [
            "['a', 'b', 1, 2, 3, 4, 5, 10.22, 0.123456789, 'Apple', [11, 22, 33, 44, 55]]\n"
          ]
        }
      ]
    },
    {
      "cell_type": "markdown",
      "source": [
        "8.Zip function"
      ],
      "metadata": {
        "id": "1c8UJWoN606s"
      }
    },
    {
      "cell_type": "code",
      "source": [
        "items = ['apple', 'orange', 'mango', 'papaya', 'banana']\n",
        "index = [1,2,3,4,5]\n",
        "ziped = zip(index,items)\n",
        "list (ziped)"
      ],
      "metadata": {
        "colab": {
          "base_uri": "https://localhost:8080/"
        },
        "id": "iN1goy-c64Nc",
        "outputId": "485f37df-c582-493f-adf1-ec7906cc301f"
      },
      "execution_count": null,
      "outputs": [
        {
          "output_type": "execute_result",
          "data": {
            "text/plain": [
              "[(1, 'apple'), (2, 'orange'), (3, 'mango'), (4, 'papaya'), (5, 'banana')]"
            ]
          },
          "metadata": {},
          "execution_count": 63
        }
      ]
    },
    {
      "cell_type": "markdown",
      "source": [
        "Exercises\n",
        "\n",
        "-Create a list of numbers and print its sum.\n",
        "\n",
        "-Create a list of strings and print each string along with its length.\n",
        "\n",
        "-Create a tuple of mixed data types and print each element.\n",
        "\n",
        "-Create a list of numbers and print only the even numbers.\n",
        "\n",
        "-Create a list of lists (2D list) and print each element."
      ],
      "metadata": {
        "id": "W9fUVVfy8oXD"
      }
    },
    {
      "cell_type": "markdown",
      "source": [],
      "metadata": {
        "id": "XXRuhh4q-bA1"
      }
    },
    {
      "cell_type": "markdown",
      "source": [
        "1.Create a list of numbers and print its sum.\n"
      ],
      "metadata": {
        "id": "sYqSCQFN9Fsc"
      }
    },
    {
      "cell_type": "code",
      "source": [
        "numbers = [1,2,3,4,5,6,7,8,9]\n",
        "print(sum(numbers))"
      ],
      "metadata": {
        "colab": {
          "base_uri": "https://localhost:8080/"
        },
        "id": "kuOmTEK18ugj",
        "outputId": "576a003a-3f89-4e2d-d542-a8c6640ad053"
      },
      "execution_count": null,
      "outputs": [
        {
          "output_type": "stream",
          "name": "stdout",
          "text": [
            "45\n"
          ]
        }
      ]
    },
    {
      "cell_type": "markdown",
      "source": [
        "2. Create a list of strings and print each string along with its length.\n"
      ],
      "metadata": {
        "id": "UXci0bGF9QLM"
      }
    },
    {
      "cell_type": "code",
      "source": [
        "items = ['apple', 'orange', 'mango', 'papaya', 'banana']\n",
        "for i in range (len(items)):\n",
        "  print(items[i] , len(items[i]))\n"
      ],
      "metadata": {
        "colab": {
          "base_uri": "https://localhost:8080/"
        },
        "id": "QWO2lbQL9V2k",
        "outputId": "48f85b33-bae4-4f68-fead-fd2588d6029e"
      },
      "execution_count": null,
      "outputs": [
        {
          "output_type": "stream",
          "name": "stdout",
          "text": [
            "apple 5\n",
            "orange 6\n",
            "mango 5\n",
            "papaya 6\n",
            "banana 6\n"
          ]
        }
      ]
    },
    {
      "cell_type": "markdown",
      "source": [
        "3. Create a tuple of mixed data types and print each element."
      ],
      "metadata": {
        "id": "Kthckfrv-Wkm"
      }
    },
    {
      "cell_type": "code",
      "source": [
        "mixed = ['a','b',1,2,3,4,5,10.22,0.123456789,'Apple',[11,22,33,44,55]]\n",
        "for i in range (len(mixed)):\n",
        "  print()\n",
        "  print (mixed[i])"
      ],
      "metadata": {
        "colab": {
          "base_uri": "https://localhost:8080/"
        },
        "id": "-juCoZNf-gy9",
        "outputId": "221c1005-b2df-4a9a-cbd2-445ee72caad7"
      },
      "execution_count": null,
      "outputs": [
        {
          "output_type": "stream",
          "name": "stdout",
          "text": [
            "\n",
            "a\n",
            "\n",
            "b\n",
            "\n",
            "1\n",
            "\n",
            "2\n",
            "\n",
            "3\n",
            "\n",
            "4\n",
            "\n",
            "5\n",
            "\n",
            "10.22\n",
            "\n",
            "0.123456789\n",
            "\n",
            "Apple\n",
            "\n",
            "[11, 22, 33, 44, 55]\n"
          ]
        }
      ]
    },
    {
      "cell_type": "markdown",
      "source": [
        "4.Create a list of numbers and print only the even numbers."
      ],
      "metadata": {
        "id": "9R1G_OH_-tb9"
      }
    },
    {
      "cell_type": "code",
      "source": [
        "numbers= [5,3,6,2,8,12,16,33,44,50,12,7,9,10,100]\n",
        "for i in range (len(numbers)):\n",
        "  if(numbers[i]%2==0):\n",
        "    print(numbers[i])"
      ],
      "metadata": {
        "colab": {
          "base_uri": "https://localhost:8080/"
        },
        "id": "X93RpqLI-wL1",
        "outputId": "37638269-61ab-4d4f-8d9d-9a970784c31c"
      },
      "execution_count": null,
      "outputs": [
        {
          "output_type": "stream",
          "name": "stdout",
          "text": [
            "6\n",
            "2\n",
            "8\n",
            "12\n",
            "16\n",
            "44\n",
            "50\n",
            "12\n",
            "10\n",
            "100\n"
          ]
        }
      ]
    },
    {
      "cell_type": "markdown",
      "source": [
        "5. Create a list of lists (2D list) and print each element."
      ],
      "metadata": {
        "id": "QnDAAaUw_cTV"
      }
    },
    {
      "cell_type": "code",
      "source": [
        "lists = [[1,2,3,4,5],[6,7,8,9,10],[11,12,13,14,15],[16,17,18,19,20]]\n",
        "for i in range (len(lists)):\n",
        "  print()\n",
        "  print (lists[i])"
      ],
      "metadata": {
        "colab": {
          "base_uri": "https://localhost:8080/"
        },
        "id": "43cxLFFY_pH8",
        "outputId": "463e874b-2ba1-4195-ed7a-02466aca3374"
      },
      "execution_count": null,
      "outputs": [
        {
          "output_type": "stream",
          "name": "stdout",
          "text": [
            "\n",
            "[1, 2, 3, 4, 5]\n",
            "\n",
            "[6, 7, 8, 9, 10]\n",
            "\n",
            "[11, 12, 13, 14, 15]\n",
            "\n",
            "[16, 17, 18, 19, 20]\n"
          ]
        }
      ]
    },
    {
      "cell_type": "markdown",
      "source": [
        "iiiiiiiiiiiiiiiiiiiiiiiiiiiiiiiiiiiiiiiiiiiiiiiiiiiiiiiiiiiii"
      ],
      "metadata": {
        "id": "sqPwppP5Bq8F"
      }
    },
    {
      "cell_type": "markdown",
      "source": [
        "Python Sets"
      ],
      "metadata": {
        "id": "caC8OOxUB7FO"
      }
    },
    {
      "cell_type": "markdown",
      "source": [
        "1. Create set"
      ],
      "metadata": {
        "id": "Fc0FZgYvELll"
      }
    },
    {
      "cell_type": "code",
      "source": [
        "my_set = {1,2,3,4,5}\n",
        "print (my_set)\n",
        "my_set.add(6)\n",
        "print (my_set)\n",
        "\n"
      ],
      "metadata": {
        "colab": {
          "base_uri": "https://localhost:8080/"
        },
        "id": "A0_4hHWQCHwE",
        "outputId": "d1fa8b23-9e90-42ec-aa0c-0ca70ba6d2a1"
      },
      "execution_count": null,
      "outputs": [
        {
          "output_type": "stream",
          "name": "stdout",
          "text": [
            "{1, 2, 3, 4, 5}\n",
            "{1, 2, 3, 4, 5, 6}\n"
          ]
        }
      ]
    },
    {
      "cell_type": "markdown",
      "source": [
        "2.Set union"
      ],
      "metadata": {
        "id": "53XbcL0CEGtL"
      }
    },
    {
      "cell_type": "code",
      "source": [
        "#set1 = {1,2,3,4,5}\n",
        "set1 = {'k','l','m','n'}\n",
        "#set2 = {6,7,8,9,10}\n",
        "set2 = {'a','b','c'}\n",
        "print (set1 | set2)"
      ],
      "metadata": {
        "colab": {
          "base_uri": "https://localhost:8080/"
        },
        "id": "08ClRboMEFsk",
        "outputId": "66151c16-d77b-471f-ecc8-cf5fd3061d7e"
      },
      "execution_count": null,
      "outputs": [
        {
          "output_type": "stream",
          "name": "stdout",
          "text": [
            "{'n', 'c', 'a', 'k', 'm', 'b', 'l'}\n"
          ]
        }
      ]
    },
    {
      "cell_type": "markdown",
      "source": [
        "3. Set comprenhension"
      ],
      "metadata": {
        "id": "Kd0ZsTMzFNIr"
      }
    },
    {
      "cell_type": "code",
      "source": [
        "my_set_comprehension = {x for x in range(10) if x % 2 == 0}\n",
        "print(\"Set comprehension:\", my_set_comprehension)"
      ],
      "metadata": {
        "colab": {
          "base_uri": "https://localhost:8080/"
        },
        "id": "NofolKzrFUeb",
        "outputId": "2ba12130-489d-49eb-9574-8c42670d022f"
      },
      "execution_count": null,
      "outputs": [
        {
          "output_type": "stream",
          "name": "stdout",
          "text": [
            "Set comprehension: {0, 2, 4, 6, 8}\n"
          ]
        }
      ]
    },
    {
      "cell_type": "markdown",
      "source": [
        "1111111111111111111111111111111111111111111111111111111111111111"
      ],
      "metadata": {
        "id": "MVMgRiHYShpc"
      }
    },
    {
      "cell_type": "markdown",
      "source": [
        "Python Dictionary"
      ],
      "metadata": {
        "id": "X8zTKu_YSlEM"
      }
    },
    {
      "cell_type": "code",
      "source": [
        "dictionary = {\"name\": \"Daniel\" , \"age\" : 25 , \"city\" : \"Dhaka\"}\n",
        "print(\"Name = \",dictionary[\"name\"])"
      ],
      "metadata": {
        "colab": {
          "base_uri": "https://localhost:8080/"
        },
        "id": "ZVOI3XGqSkcD",
        "outputId": "cbedb4ce-9ed6-41bb-921a-1146ff81ed6c"
      },
      "execution_count": null,
      "outputs": [
        {
          "output_type": "stream",
          "name": "stdout",
          "text": [
            "Name =  Daniel\n"
          ]
        }
      ]
    },
    {
      "cell_type": "code",
      "source": [
        "dictionary = {\"name\": \"Daniel\" , \"age\" : 25 , \"city\" : \"Dhaka\"}\n",
        "dictionary[\"email\"] = \"daniel@gmail.com\"\n",
        "del dictionary[\"age\"]\n",
        "dictionary['city'] = \"DHAKA\"\n",
        "print(dictionary)\n",
        "print(dictionary.items())\n",
        "print(dictionary.get(\"name\"))"
      ],
      "metadata": {
        "colab": {
          "base_uri": "https://localhost:8080/"
        },
        "id": "7ZoM9LO-TuAc",
        "outputId": "14179dfc-1611-42e7-8883-55c85d11f4ab"
      },
      "execution_count": null,
      "outputs": [
        {
          "output_type": "stream",
          "name": "stdout",
          "text": [
            "{'name': 'Daniel', 'city': 'DHAKA', 'email': 'daniel@gmail.com'}\n",
            "dict_items([('name', 'Daniel'), ('city', 'DHAKA'), ('email', 'daniel@gmail.com')])\n",
            "Daniel\n"
          ]
        }
      ]
    },
    {
      "cell_type": "code",
      "source": [
        "city_dict = {'1': {\"name\" : \"Dhaka\", \"country\":\"Bangladesh\", \"population\":\"50 mill\", \"fact\":\"polluted\"},\n",
        "             '2': {\"name\" : \"New-York\", \"country\":\"USA\", \"population\":\"8.5 mill\", \"fact\":\"modern\"},\n",
        "             '3': {\"name\" : \"London\", \"country\":\"UK\", \"population\":\"9 mill\", \"fact\":\"classy\"}\n",
        "             }\n",
        "print(city_dict)\n",
        "\n",
        "city1 = city_dict.get(\"1\")\n",
        "print(city1(\"population\"))"
      ],
      "metadata": {
        "colab": {
          "base_uri": "https://localhost:8080/",
          "height": 213
        },
        "id": "9lQV2lUwWHZU",
        "outputId": "e3017edf-a1b3-47c0-bf34-02fe20d4cc9f"
      },
      "execution_count": null,
      "outputs": [
        {
          "output_type": "stream",
          "name": "stdout",
          "text": [
            "{'1': {'name': 'Dhaka', 'country': 'Bangladesh', 'population': '50 mill', 'fact': 'polluted'}, '2': {'name': 'New-York', 'country': 'USA', 'population': '8.5 mill', 'fact': 'modern'}, '3': {'name': 'London', 'country': 'UK', 'population': '9 mill', 'fact': 'classy'}}\n"
          ]
        },
        {
          "output_type": "error",
          "ename": "TypeError",
          "evalue": "'dict' object is not callable",
          "traceback": [
            "\u001b[0;31m---------------------------------------------------------------------------\u001b[0m",
            "\u001b[0;31mTypeError\u001b[0m                                 Traceback (most recent call last)",
            "\u001b[0;32m<ipython-input-112-586e6ba127f8>\u001b[0m in \u001b[0;36m<cell line: 9>\u001b[0;34m()\u001b[0m\n\u001b[1;32m      7\u001b[0m \u001b[0mcity1\u001b[0m \u001b[0;34m=\u001b[0m \u001b[0mcity_dict\u001b[0m\u001b[0;34m.\u001b[0m\u001b[0mget\u001b[0m\u001b[0;34m(\u001b[0m\u001b[0;34m\"1\"\u001b[0m\u001b[0;34m)\u001b[0m\u001b[0;34m\u001b[0m\u001b[0;34m\u001b[0m\u001b[0m\n\u001b[1;32m      8\u001b[0m \u001b[0mcity1\u001b[0m \u001b[0;34m=\u001b[0m \u001b[0mcity_dict\u001b[0m\u001b[0;34m.\u001b[0m\u001b[0mget\u001b[0m\u001b[0;34m(\u001b[0m\u001b[0;34m\"1\"\u001b[0m\u001b[0;34m)\u001b[0m\u001b[0;34m\u001b[0m\u001b[0;34m\u001b[0m\u001b[0m\n\u001b[0;32m----> 9\u001b[0;31m \u001b[0mprint\u001b[0m\u001b[0;34m(\u001b[0m\u001b[0mcity1\u001b[0m\u001b[0;34m(\u001b[0m\u001b[0;34m\"population\"\u001b[0m\u001b[0;34m)\u001b[0m\u001b[0;34m)\u001b[0m\u001b[0;34m\u001b[0m\u001b[0;34m\u001b[0m\u001b[0m\n\u001b[0m",
            "\u001b[0;31mTypeError\u001b[0m: 'dict' object is not callable"
          ]
        }
      ]
    },
    {
      "cell_type": "markdown",
      "source": [
        "1111111111111111111111111111111111111111111111111111111111111111"
      ],
      "metadata": {
        "id": "1Lp_k37neiL0"
      }
    },
    {
      "cell_type": "code",
      "source": [
        "def my_function(n):\n",
        "  print(f\"My number is {n}\")\n",
        "\n",
        "my_function(5)"
      ],
      "metadata": {
        "colab": {
          "base_uri": "https://localhost:8080/"
        },
        "id": "h20JM7ftelVP",
        "outputId": "c103dba5-12f6-481a-feb9-0f5fa97e17a8"
      },
      "execution_count": null,
      "outputs": [
        {
          "output_type": "stream",
          "name": "stdout",
          "text": [
            "My number is 5\n"
          ]
        }
      ]
    }
  ]
}