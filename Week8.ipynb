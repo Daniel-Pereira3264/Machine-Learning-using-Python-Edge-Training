{
  "cells": [
    {
      "cell_type": "markdown",
      "metadata": {
        "id": "view-in-github",
        "colab_type": "text"
      },
      "source": [
        "<a href=\"https://colab.research.google.com/github/Daniel-Pereira3264/Machine-Learning-using-Python-Edge-Training/blob/main/Week8.ipynb\" target=\"_parent\"><img src=\"https://colab.research.google.com/assets/colab-badge.svg\" alt=\"Open In Colab\"/></a>"
      ]
    },
    {
      "cell_type": "code",
      "execution_count": null,
      "id": "6a8b77da-8590-44f2-a789-6f07b8aeeba2",
      "metadata": {
        "id": "6a8b77da-8590-44f2-a789-6f07b8aeeba2",
        "outputId": "641f1d5e-514d-4248-8be9-359e34a57f91",
        "colab": {
          "base_uri": "https://localhost:8080/"
        }
      },
      "outputs": [
        {
          "output_type": "stream",
          "name": "stdout",
          "text": [
            "Selected features: [ True  True  True  True False False  True False False False]\n",
            "Feature ranking: [1 1 1 1 3 4 1 5 2 6]\n"
          ]
        }
      ],
      "source": [
        "from sklearn.feature_selection import RFE\n",
        "from sklearn.linear_model import LogisticRegression\n",
        "from sklearn.datasets import make_classification\n",
        "\n",
        "# Create synthetic data\n",
        "X, y = make_classification(n_samples=100, n_features=10, random_state=42)\n",
        "\n",
        "# Define the model\n",
        "model = LogisticRegression()\n",
        "\n",
        "# Recursive Feature Elimination\n",
        "rfe = RFE(estimator=model, n_features_to_select=5)\n",
        "rfe.fit(X, y)\n",
        "\n",
        "print('Selected features:', rfe.support_)\n",
        "print('Feature ranking:', rfe.ranking_)\n"
      ]
    },
    {
      "cell_type": "code",
      "execution_count": null,
      "id": "bf33240a-9d27-4fd3-9d6c-9e9f4c5dc4dc",
      "metadata": {
        "id": "bf33240a-9d27-4fd3-9d6c-9e9f4c5dc4dc",
        "outputId": "3ff62fc6-da7b-4fd1-9b4f-0dfc001229ab"
      },
      "outputs": [
        {
          "name": "stdout",
          "output_type": "stream",
          "text": [
            "Accuracy: 0.6\n"
          ]
        }
      ],
      "source": [
        "from sklearn.neighbors import KNeighborsClassifier\n",
        "from sklearn.model_selection import train_test_split\n",
        "from sklearn.metrics import accuracy_score\n",
        "import numpy as np\n",
        "\n",
        "# Sample dataset\n",
        "X = np.array([[1, 2], [2, 3], [3, 4], [5, 6], [7, 8], [3, 5], [8, 6], [1, 8], [3, 6], [6, 6], [8, 8], [3, 5], [2, 6], [1, 8]])\n",
        "y = np.array([0, 0, 1, 1, 1, 5, 6, 9, 5,8,6,3,5,2])\n",
        "\n",
        "# Split dataset into training and test sets\n",
        "X_train, X_test, y_train, y_test = train_test_split(X, y, test_size=0.3, random_state=42)\n",
        "\n",
        "# Initialize the KNN classifier\n",
        "knn = KNeighborsClassifier(n_neighbors=1)\n",
        "\n",
        "# Fit the model\n",
        "knn.fit(X_train, y_train)\n",
        "\n",
        "# Predict the labels for test set\n",
        "y_pred = knn.predict(X_test)\n",
        "\n",
        "# Evaluate the accuracy\n",
        "accuracy = accuracy_score(y_test, y_pred)\n",
        "print(f\"Accuracy: {accuracy}\")\n"
      ]
    },
    {
      "cell_type": "code",
      "execution_count": null,
      "id": "1dcc5f00-6e1a-4318-b0e8-a7723e8a55f0",
      "metadata": {
        "id": "1dcc5f00-6e1a-4318-b0e8-a7723e8a55f0",
        "outputId": "9273e524-27b3-4bfc-c49e-14dc8d7f5d71"
      },
      "outputs": [
        {
          "name": "stdout",
          "output_type": "stream",
          "text": [
            "<class 'pandas.core.frame.DataFrame'>\n",
            "RangeIndex: 5110 entries, 0 to 5109\n",
            "Data columns (total 11 columns):\n",
            " #   Column             Non-Null Count  Dtype  \n",
            "---  ------             --------------  -----  \n",
            " 0   gender             5110 non-null   object \n",
            " 1   age                5110 non-null   float64\n",
            " 2   hypertension       5110 non-null   int64  \n",
            " 3   heart_disease      5110 non-null   int64  \n",
            " 4   ever_married       5110 non-null   object \n",
            " 5   work_type          5110 non-null   object \n",
            " 6   Residence_type     5110 non-null   object \n",
            " 7   avg_glucose_level  5110 non-null   float64\n",
            " 8   bmi                4909 non-null   float64\n",
            " 9   smoking_status     3566 non-null   object \n",
            " 10  stroke             5110 non-null   int64  \n",
            "dtypes: float64(3), int64(3), object(5)\n",
            "memory usage: 439.3+ KB\n"
          ]
        }
      ],
      "source": [
        "import pandas as pd\n",
        "df=pd.read_csv('C:/Users/CSE JnU/Desktop/Week-8/stroke.csv')\n",
        "df.info()"
      ]
    },
    {
      "cell_type": "code",
      "execution_count": null,
      "id": "cf9ec109-4246-4824-b382-a87e2323bc42",
      "metadata": {
        "id": "cf9ec109-4246-4824-b382-a87e2323bc42",
        "outputId": "709a9f5f-5ca3-47a9-f2ef-1cb20e6822a4"
      },
      "outputs": [
        {
          "data": {
            "text/html": [
              "<div>\n",
              "<style scoped>\n",
              "    .dataframe tbody tr th:only-of-type {\n",
              "        vertical-align: middle;\n",
              "    }\n",
              "\n",
              "    .dataframe tbody tr th {\n",
              "        vertical-align: top;\n",
              "    }\n",
              "\n",
              "    .dataframe thead th {\n",
              "        text-align: right;\n",
              "    }\n",
              "</style>\n",
              "<table border=\"1\" class=\"dataframe\">\n",
              "  <thead>\n",
              "    <tr style=\"text-align: right;\">\n",
              "      <th></th>\n",
              "      <th>gender</th>\n",
              "      <th>age</th>\n",
              "      <th>hypertension</th>\n",
              "      <th>heart_disease</th>\n",
              "      <th>ever_married</th>\n",
              "      <th>work_type</th>\n",
              "      <th>Residence_type</th>\n",
              "      <th>avg_glucose_level</th>\n",
              "      <th>bmi</th>\n",
              "      <th>smoking_status</th>\n",
              "      <th>stroke</th>\n",
              "    </tr>\n",
              "  </thead>\n",
              "  <tbody>\n",
              "    <tr>\n",
              "      <th>0</th>\n",
              "      <td>Male</td>\n",
              "      <td>67.0</td>\n",
              "      <td>0</td>\n",
              "      <td>1</td>\n",
              "      <td>Yes</td>\n",
              "      <td>Private</td>\n",
              "      <td>Urban</td>\n",
              "      <td>228.69</td>\n",
              "      <td>36.6</td>\n",
              "      <td>formerly smoked</td>\n",
              "      <td>1</td>\n",
              "    </tr>\n",
              "    <tr>\n",
              "      <th>1</th>\n",
              "      <td>Female</td>\n",
              "      <td>61.0</td>\n",
              "      <td>0</td>\n",
              "      <td>0</td>\n",
              "      <td>Yes</td>\n",
              "      <td>Self-employed</td>\n",
              "      <td>Rural</td>\n",
              "      <td>202.21</td>\n",
              "      <td>NaN</td>\n",
              "      <td>never smoked</td>\n",
              "      <td>1</td>\n",
              "    </tr>\n",
              "    <tr>\n",
              "      <th>2</th>\n",
              "      <td>Male</td>\n",
              "      <td>80.0</td>\n",
              "      <td>0</td>\n",
              "      <td>1</td>\n",
              "      <td>Yes</td>\n",
              "      <td>Private</td>\n",
              "      <td>Rural</td>\n",
              "      <td>105.92</td>\n",
              "      <td>32.5</td>\n",
              "      <td>never smoked</td>\n",
              "      <td>1</td>\n",
              "    </tr>\n",
              "    <tr>\n",
              "      <th>3</th>\n",
              "      <td>Female</td>\n",
              "      <td>49.0</td>\n",
              "      <td>0</td>\n",
              "      <td>0</td>\n",
              "      <td>Yes</td>\n",
              "      <td>Private</td>\n",
              "      <td>Urban</td>\n",
              "      <td>171.23</td>\n",
              "      <td>34.4</td>\n",
              "      <td>smokes</td>\n",
              "      <td>1</td>\n",
              "    </tr>\n",
              "    <tr>\n",
              "      <th>4</th>\n",
              "      <td>Female</td>\n",
              "      <td>79.0</td>\n",
              "      <td>1</td>\n",
              "      <td>0</td>\n",
              "      <td>Yes</td>\n",
              "      <td>Self-employed</td>\n",
              "      <td>Rural</td>\n",
              "      <td>174.12</td>\n",
              "      <td>24.0</td>\n",
              "      <td>never smoked</td>\n",
              "      <td>1</td>\n",
              "    </tr>\n",
              "    <tr>\n",
              "      <th>5</th>\n",
              "      <td>Male</td>\n",
              "      <td>81.0</td>\n",
              "      <td>0</td>\n",
              "      <td>0</td>\n",
              "      <td>Yes</td>\n",
              "      <td>Private</td>\n",
              "      <td>Urban</td>\n",
              "      <td>186.21</td>\n",
              "      <td>29.0</td>\n",
              "      <td>formerly smoked</td>\n",
              "      <td>1</td>\n",
              "    </tr>\n",
              "    <tr>\n",
              "      <th>6</th>\n",
              "      <td>Male</td>\n",
              "      <td>74.0</td>\n",
              "      <td>1</td>\n",
              "      <td>1</td>\n",
              "      <td>Yes</td>\n",
              "      <td>Private</td>\n",
              "      <td>Rural</td>\n",
              "      <td>70.09</td>\n",
              "      <td>27.4</td>\n",
              "      <td>never smoked</td>\n",
              "      <td>1</td>\n",
              "    </tr>\n",
              "    <tr>\n",
              "      <th>7</th>\n",
              "      <td>Female</td>\n",
              "      <td>69.0</td>\n",
              "      <td>0</td>\n",
              "      <td>0</td>\n",
              "      <td>No</td>\n",
              "      <td>Private</td>\n",
              "      <td>Urban</td>\n",
              "      <td>94.39</td>\n",
              "      <td>22.8</td>\n",
              "      <td>never smoked</td>\n",
              "      <td>1</td>\n",
              "    </tr>\n",
              "    <tr>\n",
              "      <th>8</th>\n",
              "      <td>Female</td>\n",
              "      <td>59.0</td>\n",
              "      <td>0</td>\n",
              "      <td>0</td>\n",
              "      <td>Yes</td>\n",
              "      <td>Private</td>\n",
              "      <td>Rural</td>\n",
              "      <td>76.15</td>\n",
              "      <td>NaN</td>\n",
              "      <td>NaN</td>\n",
              "      <td>1</td>\n",
              "    </tr>\n",
              "    <tr>\n",
              "      <th>9</th>\n",
              "      <td>Female</td>\n",
              "      <td>78.0</td>\n",
              "      <td>0</td>\n",
              "      <td>0</td>\n",
              "      <td>Yes</td>\n",
              "      <td>Private</td>\n",
              "      <td>Urban</td>\n",
              "      <td>58.57</td>\n",
              "      <td>24.2</td>\n",
              "      <td>NaN</td>\n",
              "      <td>1</td>\n",
              "    </tr>\n",
              "  </tbody>\n",
              "</table>\n",
              "</div>"
            ],
            "text/plain": [
              "   gender   age  hypertension  heart_disease ever_married      work_type  \\\n",
              "0    Male  67.0             0              1          Yes        Private   \n",
              "1  Female  61.0             0              0          Yes  Self-employed   \n",
              "2    Male  80.0             0              1          Yes        Private   \n",
              "3  Female  49.0             0              0          Yes        Private   \n",
              "4  Female  79.0             1              0          Yes  Self-employed   \n",
              "5    Male  81.0             0              0          Yes        Private   \n",
              "6    Male  74.0             1              1          Yes        Private   \n",
              "7  Female  69.0             0              0           No        Private   \n",
              "8  Female  59.0             0              0          Yes        Private   \n",
              "9  Female  78.0             0              0          Yes        Private   \n",
              "\n",
              "  Residence_type  avg_glucose_level   bmi   smoking_status  stroke  \n",
              "0          Urban             228.69  36.6  formerly smoked       1  \n",
              "1          Rural             202.21   NaN     never smoked       1  \n",
              "2          Rural             105.92  32.5     never smoked       1  \n",
              "3          Urban             171.23  34.4           smokes       1  \n",
              "4          Rural             174.12  24.0     never smoked       1  \n",
              "5          Urban             186.21  29.0  formerly smoked       1  \n",
              "6          Rural              70.09  27.4     never smoked       1  \n",
              "7          Urban              94.39  22.8     never smoked       1  \n",
              "8          Rural              76.15   NaN              NaN       1  \n",
              "9          Urban              58.57  24.2              NaN       1  "
            ]
          },
          "execution_count": 22,
          "metadata": {},
          "output_type": "execute_result"
        }
      ],
      "source": [
        "df.head(10)"
      ]
    },
    {
      "cell_type": "code",
      "execution_count": null,
      "id": "bf3d0e08-dd1c-42a4-8146-cace84363def",
      "metadata": {
        "id": "bf3d0e08-dd1c-42a4-8146-cace84363def"
      },
      "outputs": [],
      "source": [
        "mval = df['bmi'].mean()"
      ]
    },
    {
      "cell_type": "code",
      "execution_count": null,
      "id": "0b8ebfc2-dbca-4a61-97a3-5ffab4796ca3",
      "metadata": {
        "id": "0b8ebfc2-dbca-4a61-97a3-5ffab4796ca3",
        "outputId": "d9e354c0-9be3-460b-8420-3c3035134b01"
      },
      "outputs": [
        {
          "data": {
            "text/plain": [
              "gender                  0\n",
              "age                     0\n",
              "hypertension            0\n",
              "heart_disease           0\n",
              "ever_married            0\n",
              "work_type               0\n",
              "Residence_type          0\n",
              "avg_glucose_level       0\n",
              "bmi                   201\n",
              "smoking_status       1544\n",
              "stroke                  0\n",
              "dtype: int64"
            ]
          },
          "execution_count": 28,
          "metadata": {},
          "output_type": "execute_result"
        }
      ],
      "source": [
        "df.isnull().sum()"
      ]
    },
    {
      "cell_type": "code",
      "execution_count": null,
      "id": "f7431ce4-9894-45c3-9706-73adfce2ed38",
      "metadata": {
        "id": "f7431ce4-9894-45c3-9706-73adfce2ed38"
      },
      "outputs": [],
      "source": [
        "#df['bmi'].fillna(value=df.mean(), inplace=True)\n",
        "df['bmi'].fillna(value=mval, inplace=True)"
      ]
    },
    {
      "cell_type": "code",
      "execution_count": null,
      "id": "91a0876e-4aa9-4223-a4b1-3a5a1a6c9322",
      "metadata": {
        "id": "91a0876e-4aa9-4223-a4b1-3a5a1a6c9322",
        "outputId": "0de08796-74e8-4a24-f0c7-45a3c60f838b"
      },
      "outputs": [
        {
          "name": "stdout",
          "output_type": "stream",
          "text": [
            "<class 'pandas.core.frame.DataFrame'>\n",
            "RangeIndex: 5110 entries, 0 to 5109\n",
            "Data columns (total 11 columns):\n",
            " #   Column             Non-Null Count  Dtype  \n",
            "---  ------             --------------  -----  \n",
            " 0   gender             5110 non-null   object \n",
            " 1   age                5110 non-null   float64\n",
            " 2   hypertension       5110 non-null   int64  \n",
            " 3   heart_disease      5110 non-null   int64  \n",
            " 4   ever_married       5110 non-null   object \n",
            " 5   work_type          5110 non-null   object \n",
            " 6   Residence_type     5110 non-null   object \n",
            " 7   avg_glucose_level  5110 non-null   float64\n",
            " 8   bmi                5110 non-null   float64\n",
            " 9   smoking_status     3566 non-null   object \n",
            " 10  stroke             5110 non-null   int64  \n",
            "dtypes: float64(3), int64(3), object(5)\n",
            "memory usage: 439.3+ KB\n"
          ]
        }
      ],
      "source": [
        "df.info()"
      ]
    },
    {
      "cell_type": "code",
      "execution_count": null,
      "id": "423f9ebd-d2b6-4577-8e8e-f4448e54deaf",
      "metadata": {
        "id": "423f9ebd-d2b6-4577-8e8e-f4448e54deaf",
        "outputId": "7cde57fb-b964-4241-ba0b-ffaad437641e"
      },
      "outputs": [
        {
          "data": {
            "text/plain": [
              "gender                  0\n",
              "age                     0\n",
              "hypertension            0\n",
              "heart_disease           0\n",
              "ever_married            0\n",
              "work_type               0\n",
              "Residence_type          0\n",
              "avg_glucose_level       0\n",
              "bmi                     0\n",
              "smoking_status       1544\n",
              "stroke                  0\n",
              "dtype: int64"
            ]
          },
          "execution_count": 32,
          "metadata": {},
          "output_type": "execute_result"
        }
      ],
      "source": [
        "df.isnull().sum()"
      ]
    },
    {
      "cell_type": "code",
      "execution_count": null,
      "id": "7cea74ad-ee8d-42ba-a493-7fc9c2d974f0",
      "metadata": {
        "id": "7cea74ad-ee8d-42ba-a493-7fc9c2d974f0",
        "outputId": "a187ba00-7663-49ef-cd6c-46e16c6879f8"
      },
      "outputs": [
        {
          "data": {
            "text/plain": [
              "array(['formerly smoked', 'never smoked', 'smokes', nan], dtype=object)"
            ]
          },
          "execution_count": 33,
          "metadata": {},
          "output_type": "execute_result"
        }
      ],
      "source": [
        "df['smoking_status'].unique()"
      ]
    },
    {
      "cell_type": "code",
      "execution_count": null,
      "id": "c2047248-41c7-4586-9668-fc33a63def13",
      "metadata": {
        "id": "c2047248-41c7-4586-9668-fc33a63def13"
      },
      "outputs": [],
      "source": [
        "df['smoking_status'].fillna(value='unknown', inplace=True)"
      ]
    },
    {
      "cell_type": "code",
      "execution_count": null,
      "id": "3b6d704d-7304-4f53-b812-635cfd71c1c9",
      "metadata": {
        "id": "3b6d704d-7304-4f53-b812-635cfd71c1c9",
        "outputId": "bd9d371f-17d3-499f-ae5a-638720cbc1f3"
      },
      "outputs": [
        {
          "name": "stdout",
          "output_type": "stream",
          "text": [
            "<class 'pandas.core.frame.DataFrame'>\n",
            "RangeIndex: 5110 entries, 0 to 5109\n",
            "Data columns (total 11 columns):\n",
            " #   Column             Non-Null Count  Dtype  \n",
            "---  ------             --------------  -----  \n",
            " 0   gender             5110 non-null   object \n",
            " 1   age                5110 non-null   float64\n",
            " 2   hypertension       5110 non-null   int64  \n",
            " 3   heart_disease      5110 non-null   int64  \n",
            " 4   ever_married       5110 non-null   object \n",
            " 5   work_type          5110 non-null   object \n",
            " 6   Residence_type     5110 non-null   object \n",
            " 7   avg_glucose_level  5110 non-null   float64\n",
            " 8   bmi                5110 non-null   float64\n",
            " 9   smoking_status     5110 non-null   object \n",
            " 10  stroke             5110 non-null   int64  \n",
            "dtypes: float64(3), int64(3), object(5)\n",
            "memory usage: 439.3+ KB\n"
          ]
        }
      ],
      "source": [
        "df.info()"
      ]
    },
    {
      "cell_type": "code",
      "execution_count": null,
      "id": "52f4eef0-992f-413a-b527-3a66d15ca563",
      "metadata": {
        "id": "52f4eef0-992f-413a-b527-3a66d15ca563",
        "outputId": "66f581ba-6b87-4f85-f21e-f62ca2e5c6df"
      },
      "outputs": [
        {
          "data": {
            "text/plain": [
              "gender               0\n",
              "age                  0\n",
              "hypertension         0\n",
              "heart_disease        0\n",
              "ever_married         0\n",
              "work_type            0\n",
              "Residence_type       0\n",
              "avg_glucose_level    0\n",
              "bmi                  0\n",
              "smoking_status       0\n",
              "stroke               0\n",
              "dtype: int64"
            ]
          },
          "execution_count": 36,
          "metadata": {},
          "output_type": "execute_result"
        }
      ],
      "source": [
        "df.isnull().sum()"
      ]
    },
    {
      "cell_type": "code",
      "execution_count": null,
      "id": "7e5fbb0c-967b-41bb-909e-2c3c7e7b8985",
      "metadata": {
        "id": "7e5fbb0c-967b-41bb-909e-2c3c7e7b8985",
        "outputId": "bd02f240-77c3-40ab-e09f-adf31d2187a7"
      },
      "outputs": [
        {
          "data": {
            "text/html": [
              "<div>\n",
              "<style scoped>\n",
              "    .dataframe tbody tr th:only-of-type {\n",
              "        vertical-align: middle;\n",
              "    }\n",
              "\n",
              "    .dataframe tbody tr th {\n",
              "        vertical-align: top;\n",
              "    }\n",
              "\n",
              "    .dataframe thead th {\n",
              "        text-align: right;\n",
              "    }\n",
              "</style>\n",
              "<table border=\"1\" class=\"dataframe\">\n",
              "  <thead>\n",
              "    <tr style=\"text-align: right;\">\n",
              "      <th></th>\n",
              "      <th>gender</th>\n",
              "      <th>age</th>\n",
              "      <th>hypertension</th>\n",
              "      <th>heart_disease</th>\n",
              "      <th>ever_married</th>\n",
              "      <th>work_type</th>\n",
              "      <th>Residence_type</th>\n",
              "      <th>avg_glucose_level</th>\n",
              "      <th>bmi</th>\n",
              "      <th>smoking_status</th>\n",
              "      <th>stroke</th>\n",
              "    </tr>\n",
              "  </thead>\n",
              "  <tbody>\n",
              "    <tr>\n",
              "      <th>0</th>\n",
              "      <td>1</td>\n",
              "      <td>67.0</td>\n",
              "      <td>0</td>\n",
              "      <td>1</td>\n",
              "      <td>1</td>\n",
              "      <td>2</td>\n",
              "      <td>1</td>\n",
              "      <td>228.69</td>\n",
              "      <td>36.600000</td>\n",
              "      <td>0</td>\n",
              "      <td>1</td>\n",
              "    </tr>\n",
              "    <tr>\n",
              "      <th>1</th>\n",
              "      <td>0</td>\n",
              "      <td>61.0</td>\n",
              "      <td>0</td>\n",
              "      <td>0</td>\n",
              "      <td>1</td>\n",
              "      <td>3</td>\n",
              "      <td>0</td>\n",
              "      <td>202.21</td>\n",
              "      <td>28.893237</td>\n",
              "      <td>1</td>\n",
              "      <td>1</td>\n",
              "    </tr>\n",
              "  </tbody>\n",
              "</table>\n",
              "</div>"
            ],
            "text/plain": [
              "   gender   age  hypertension  heart_disease  ever_married  work_type  \\\n",
              "0       1  67.0             0              1             1          2   \n",
              "1       0  61.0             0              0             1          3   \n",
              "\n",
              "   Residence_type  avg_glucose_level        bmi  smoking_status  stroke  \n",
              "0               1             228.69  36.600000               0       1  \n",
              "1               0             202.21  28.893237               1       1  "
            ]
          },
          "execution_count": 42,
          "metadata": {},
          "output_type": "execute_result"
        }
      ],
      "source": [
        "from sklearn.preprocessing import LabelEncoder\n",
        "label=LabelEncoder()\n",
        "df['gender'] = label.fit_transform(df['gender'])\n",
        "df['ever_married'] = label.fit_transform(df['ever_married'])\n",
        "df['work_type'] = label.fit_transform(df['work_type'])\n",
        "df['Residence_type'] = label.fit_transform(df['Residence_type'])\n",
        "df['smoking_status'] = label.fit_transform(df['smoking_status'])\n",
        "df.astype(str).apply(LabelEncoder().fit_transform)\n",
        "df[:2]"
      ]
    },
    {
      "cell_type": "code",
      "execution_count": null,
      "id": "0463566d-a9d4-4798-a25a-026991d7a1dc",
      "metadata": {
        "id": "0463566d-a9d4-4798-a25a-026991d7a1dc",
        "outputId": "d804350f-a955-4efa-bb8e-f4475b045276"
      },
      "outputs": [
        {
          "data": {
            "text/html": [
              "<div>\n",
              "<style scoped>\n",
              "    .dataframe tbody tr th:only-of-type {\n",
              "        vertical-align: middle;\n",
              "    }\n",
              "\n",
              "    .dataframe tbody tr th {\n",
              "        vertical-align: top;\n",
              "    }\n",
              "\n",
              "    .dataframe thead th {\n",
              "        text-align: right;\n",
              "    }\n",
              "</style>\n",
              "<table border=\"1\" class=\"dataframe\">\n",
              "  <thead>\n",
              "    <tr style=\"text-align: right;\">\n",
              "      <th></th>\n",
              "      <th>gender</th>\n",
              "      <th>age</th>\n",
              "      <th>hypertension</th>\n",
              "      <th>heart_disease</th>\n",
              "      <th>ever_married</th>\n",
              "      <th>work_type</th>\n",
              "      <th>Residence_type</th>\n",
              "      <th>avg_glucose_level</th>\n",
              "      <th>bmi</th>\n",
              "      <th>smoking_status</th>\n",
              "      <th>stroke</th>\n",
              "    </tr>\n",
              "  </thead>\n",
              "  <tbody>\n",
              "    <tr>\n",
              "      <th>count</th>\n",
              "      <td>5110.000000</td>\n",
              "      <td>5110.000000</td>\n",
              "      <td>5110.000000</td>\n",
              "      <td>5110.000000</td>\n",
              "      <td>5110.000000</td>\n",
              "      <td>5110.000000</td>\n",
              "      <td>5110.000000</td>\n",
              "      <td>5110.000000</td>\n",
              "      <td>5110.000000</td>\n",
              "      <td>5110.000000</td>\n",
              "      <td>5110.000000</td>\n",
              "    </tr>\n",
              "    <tr>\n",
              "      <th>mean</th>\n",
              "      <td>0.414286</td>\n",
              "      <td>43.226614</td>\n",
              "      <td>0.097456</td>\n",
              "      <td>0.054012</td>\n",
              "      <td>0.656164</td>\n",
              "      <td>2.167710</td>\n",
              "      <td>0.508023</td>\n",
              "      <td>106.147677</td>\n",
              "      <td>28.893237</td>\n",
              "      <td>1.585519</td>\n",
              "      <td>0.048728</td>\n",
              "    </tr>\n",
              "    <tr>\n",
              "      <th>std</th>\n",
              "      <td>0.493044</td>\n",
              "      <td>22.612647</td>\n",
              "      <td>0.296607</td>\n",
              "      <td>0.226063</td>\n",
              "      <td>0.475034</td>\n",
              "      <td>1.090293</td>\n",
              "      <td>0.499985</td>\n",
              "      <td>45.283560</td>\n",
              "      <td>7.698018</td>\n",
              "      <td>1.092522</td>\n",
              "      <td>0.215320</td>\n",
              "    </tr>\n",
              "    <tr>\n",
              "      <th>min</th>\n",
              "      <td>0.000000</td>\n",
              "      <td>0.080000</td>\n",
              "      <td>0.000000</td>\n",
              "      <td>0.000000</td>\n",
              "      <td>0.000000</td>\n",
              "      <td>0.000000</td>\n",
              "      <td>0.000000</td>\n",
              "      <td>55.120000</td>\n",
              "      <td>10.300000</td>\n",
              "      <td>0.000000</td>\n",
              "      <td>0.000000</td>\n",
              "    </tr>\n",
              "    <tr>\n",
              "      <th>25%</th>\n",
              "      <td>0.000000</td>\n",
              "      <td>25.000000</td>\n",
              "      <td>0.000000</td>\n",
              "      <td>0.000000</td>\n",
              "      <td>0.000000</td>\n",
              "      <td>2.000000</td>\n",
              "      <td>0.000000</td>\n",
              "      <td>77.245000</td>\n",
              "      <td>23.800000</td>\n",
              "      <td>1.000000</td>\n",
              "      <td>0.000000</td>\n",
              "    </tr>\n",
              "    <tr>\n",
              "      <th>50%</th>\n",
              "      <td>0.000000</td>\n",
              "      <td>45.000000</td>\n",
              "      <td>0.000000</td>\n",
              "      <td>0.000000</td>\n",
              "      <td>1.000000</td>\n",
              "      <td>2.000000</td>\n",
              "      <td>1.000000</td>\n",
              "      <td>91.885000</td>\n",
              "      <td>28.400000</td>\n",
              "      <td>1.000000</td>\n",
              "      <td>0.000000</td>\n",
              "    </tr>\n",
              "    <tr>\n",
              "      <th>75%</th>\n",
              "      <td>1.000000</td>\n",
              "      <td>61.000000</td>\n",
              "      <td>0.000000</td>\n",
              "      <td>0.000000</td>\n",
              "      <td>1.000000</td>\n",
              "      <td>3.000000</td>\n",
              "      <td>1.000000</td>\n",
              "      <td>114.090000</td>\n",
              "      <td>32.800000</td>\n",
              "      <td>3.000000</td>\n",
              "      <td>0.000000</td>\n",
              "    </tr>\n",
              "    <tr>\n",
              "      <th>max</th>\n",
              "      <td>2.000000</td>\n",
              "      <td>82.000000</td>\n",
              "      <td>1.000000</td>\n",
              "      <td>1.000000</td>\n",
              "      <td>1.000000</td>\n",
              "      <td>4.000000</td>\n",
              "      <td>1.000000</td>\n",
              "      <td>271.740000</td>\n",
              "      <td>97.600000</td>\n",
              "      <td>3.000000</td>\n",
              "      <td>1.000000</td>\n",
              "    </tr>\n",
              "  </tbody>\n",
              "</table>\n",
              "</div>"
            ],
            "text/plain": [
              "            gender          age  hypertension  heart_disease  ever_married  \\\n",
              "count  5110.000000  5110.000000   5110.000000    5110.000000   5110.000000   \n",
              "mean      0.414286    43.226614      0.097456       0.054012      0.656164   \n",
              "std       0.493044    22.612647      0.296607       0.226063      0.475034   \n",
              "min       0.000000     0.080000      0.000000       0.000000      0.000000   \n",
              "25%       0.000000    25.000000      0.000000       0.000000      0.000000   \n",
              "50%       0.000000    45.000000      0.000000       0.000000      1.000000   \n",
              "75%       1.000000    61.000000      0.000000       0.000000      1.000000   \n",
              "max       2.000000    82.000000      1.000000       1.000000      1.000000   \n",
              "\n",
              "         work_type  Residence_type  avg_glucose_level          bmi  \\\n",
              "count  5110.000000     5110.000000        5110.000000  5110.000000   \n",
              "mean      2.167710        0.508023         106.147677    28.893237   \n",
              "std       1.090293        0.499985          45.283560     7.698018   \n",
              "min       0.000000        0.000000          55.120000    10.300000   \n",
              "25%       2.000000        0.000000          77.245000    23.800000   \n",
              "50%       2.000000        1.000000          91.885000    28.400000   \n",
              "75%       3.000000        1.000000         114.090000    32.800000   \n",
              "max       4.000000        1.000000         271.740000    97.600000   \n",
              "\n",
              "       smoking_status       stroke  \n",
              "count     5110.000000  5110.000000  \n",
              "mean         1.585519     0.048728  \n",
              "std          1.092522     0.215320  \n",
              "min          0.000000     0.000000  \n",
              "25%          1.000000     0.000000  \n",
              "50%          1.000000     0.000000  \n",
              "75%          3.000000     0.000000  \n",
              "max          3.000000     1.000000  "
            ]
          },
          "execution_count": 43,
          "metadata": {},
          "output_type": "execute_result"
        }
      ],
      "source": [
        "df.describe()"
      ]
    },
    {
      "cell_type": "code",
      "execution_count": null,
      "id": "4ce1ad1d-1162-430a-b14a-12c49c3bd86d",
      "metadata": {
        "id": "4ce1ad1d-1162-430a-b14a-12c49c3bd86d",
        "outputId": "b6c155cb-61b9-4cc8-e4ed-eb95a15fc82e"
      },
      "outputs": [
        {
          "name": "stdout",
          "output_type": "stream",
          "text": [
            "Accuracy: 93.93%\n"
          ]
        }
      ],
      "source": [
        "from sklearn.neighbors import KNeighborsClassifier\n",
        "from sklearn.model_selection import train_test_split\n",
        "from sklearn.metrics import accuracy_score\n",
        "import numpy as np\n",
        "\n",
        "# Sample dataset\n",
        "#X = df[['gender', 'age', 'hypertension', 'heart_disease' , 'ever_married', 'work_type' , 'Residence_type' , 'avg_glucose_level' , 'bmi' , 'smoking_status']]\n",
        "X = df.iloc[:,:-1]\n",
        "y = df['stroke']\n",
        "\n",
        "# Split dataset into training and test sets\n",
        "X_train, X_test, y_train, y_test = train_test_split(X, y, test_size=0.2, random_state=42)\n",
        "\n",
        "# Initialize the KNN classifier\n",
        "knn = KNeighborsClassifier(n_neighbors=8)\n",
        "\n",
        "# Fit the model\n",
        "knn.fit(X_train, y_train)\n",
        "\n",
        "# Predict the labels for test set\n",
        "y_pred = knn.predict(X_test)\n",
        "\n",
        "# Evaluate the accuracy\n",
        "_accuracy = accuracy_score(y_test, y_pred)\n",
        "print(f\"Accuracy: {100*_accuracy:.2f}%\")\n"
      ]
    },
    {
      "cell_type": "code",
      "execution_count": null,
      "id": "d369f393-6f19-45f5-bd89-18cfba4afa65",
      "metadata": {
        "id": "d369f393-6f19-45f5-bd89-18cfba4afa65",
        "outputId": "94f10dc3-41e7-4e82-c961-d8251d39e8e2"
      },
      "outputs": [
        {
          "data": {
            "text/plain": [
              "<Axes: >"
            ]
          },
          "execution_count": 73,
          "metadata": {},
          "output_type": "execute_result"
        },
        {
          "data": {
            "image/png": "[encoded data removed]",
            "text/plain": [
              "<Figure size 640x480 with 1 Axes>"
            ]
          },
          "metadata": {},
          "output_type": "display_data"
        }
      ],
      "source": [
        "import seaborn as _sb\n",
        "_sb.boxplot(df['bmi'])\n"
      ]
    },
    {
      "cell_type": "code",
      "execution_count": null,
      "id": "3c20cd99-fff3-4633-bfed-51bb07b7d6e7",
      "metadata": {
        "id": "3c20cd99-fff3-4633-bfed-51bb07b7d6e7",
        "outputId": "b56c1fd6-e19e-4abd-b265-0741ffa6ae31"
      },
      "outputs": [
        {
          "data": {
            "text/plain": [
              "<Axes: >"
            ]
          },
          "execution_count": 74,
          "metadata": {},
          "output_type": "execute_result"
        },
        {
          "data": {
            "image/png": "[encoded data removed]",
            "text/plain": [
              "<Figure size 640x480 with 1 Axes>"
            ]
          },
          "metadata": {},
          "output_type": "display_data"
        }
      ],
      "source": [
        "_sb.boxplot(df['avg_glucose_level'])"
      ]
    },
    {
      "cell_type": "code",
      "execution_count": null,
      "id": "e42a6b8d-9c53-4b89-af31-e492a32c754e",
      "metadata": {
        "id": "e42a6b8d-9c53-4b89-af31-e492a32c754e",
        "outputId": "3c3b56bf-2bf6-4c25-b861-4b9747c1f740"
      },
      "outputs": [
        {
          "data": {
            "text/html": [
              "<div>\n",
              "<style scoped>\n",
              "    .dataframe tbody tr th:only-of-type {\n",
              "        vertical-align: middle;\n",
              "    }\n",
              "\n",
              "    .dataframe tbody tr th {\n",
              "        vertical-align: top;\n",
              "    }\n",
              "\n",
              "    .dataframe thead th {\n",
              "        text-align: right;\n",
              "    }\n",
              "</style>\n",
              "<table border=\"1\" class=\"dataframe\">\n",
              "  <thead>\n",
              "    <tr style=\"text-align: right;\">\n",
              "      <th></th>\n",
              "      <th>gender</th>\n",
              "      <th>age</th>\n",
              "      <th>hypertension</th>\n",
              "      <th>heart_disease</th>\n",
              "      <th>ever_married</th>\n",
              "      <th>work_type</th>\n",
              "      <th>Residence_type</th>\n",
              "      <th>avg_glucose_level</th>\n",
              "      <th>bmi</th>\n",
              "      <th>smoking_status</th>\n",
              "    </tr>\n",
              "  </thead>\n",
              "  <tbody>\n",
              "    <tr>\n",
              "      <th>0</th>\n",
              "      <td>1.188073</td>\n",
              "      <td>1.051434</td>\n",
              "      <td>-0.328602</td>\n",
              "      <td>4.185032</td>\n",
              "      <td>0.723884</td>\n",
              "      <td>-0.153836</td>\n",
              "      <td>0.984080</td>\n",
              "      <td>2.706375</td>\n",
              "      <td>1.001234e+00</td>\n",
              "      <td>-1.451388</td>\n",
              "    </tr>\n",
              "    <tr>\n",
              "      <th>1</th>\n",
              "      <td>-0.840344</td>\n",
              "      <td>0.786070</td>\n",
              "      <td>-0.328602</td>\n",
              "      <td>-0.238947</td>\n",
              "      <td>0.723884</td>\n",
              "      <td>0.763438</td>\n",
              "      <td>-1.016178</td>\n",
              "      <td>2.121559</td>\n",
              "      <td>4.615554e-16</td>\n",
              "      <td>-0.535985</td>\n",
              "    </tr>\n",
              "    <tr>\n",
              "      <th>2</th>\n",
              "      <td>1.188073</td>\n",
              "      <td>1.626390</td>\n",
              "      <td>-0.328602</td>\n",
              "      <td>4.185032</td>\n",
              "      <td>0.723884</td>\n",
              "      <td>-0.153836</td>\n",
              "      <td>-1.016178</td>\n",
              "      <td>-0.005028</td>\n",
              "      <td>4.685773e-01</td>\n",
              "      <td>-0.535985</td>\n",
              "    </tr>\n",
              "    <tr>\n",
              "      <th>3</th>\n",
              "      <td>-0.840344</td>\n",
              "      <td>0.255342</td>\n",
              "      <td>-0.328602</td>\n",
              "      <td>-0.238947</td>\n",
              "      <td>0.723884</td>\n",
              "      <td>-0.153836</td>\n",
              "      <td>0.984080</td>\n",
              "      <td>1.437358</td>\n",
              "      <td>7.154182e-01</td>\n",
              "      <td>0.379417</td>\n",
              "    </tr>\n",
              "    <tr>\n",
              "      <th>4</th>\n",
              "      <td>-0.840344</td>\n",
              "      <td>1.582163</td>\n",
              "      <td>3.043196</td>\n",
              "      <td>-0.238947</td>\n",
              "      <td>0.723884</td>\n",
              "      <td>0.763438</td>\n",
              "      <td>-1.016178</td>\n",
              "      <td>1.501184</td>\n",
              "      <td>-6.357112e-01</td>\n",
              "      <td>-0.535985</td>\n",
              "    </tr>\n",
              "    <tr>\n",
              "      <th>5</th>\n",
              "      <td>1.188073</td>\n",
              "      <td>1.670617</td>\n",
              "      <td>-0.328602</td>\n",
              "      <td>-0.238947</td>\n",
              "      <td>0.723884</td>\n",
              "      <td>-0.153836</td>\n",
              "      <td>0.984080</td>\n",
              "      <td>1.768195</td>\n",
              "      <td>1.387026e-02</td>\n",
              "      <td>-1.451388</td>\n",
              "    </tr>\n",
              "    <tr>\n",
              "      <th>6</th>\n",
              "      <td>1.188073</td>\n",
              "      <td>1.361026</td>\n",
              "      <td>3.043196</td>\n",
              "      <td>4.185032</td>\n",
              "      <td>0.723884</td>\n",
              "      <td>-0.153836</td>\n",
              "      <td>-1.016178</td>\n",
              "      <td>-0.796342</td>\n",
              "      <td>-1.939958e-01</td>\n",
              "      <td>-0.535985</td>\n",
              "    </tr>\n",
              "    <tr>\n",
              "      <th>7</th>\n",
              "      <td>-0.840344</td>\n",
              "      <td>1.139889</td>\n",
              "      <td>-0.328602</td>\n",
              "      <td>-0.238947</td>\n",
              "      <td>-1.381436</td>\n",
              "      <td>-0.153836</td>\n",
              "      <td>0.984080</td>\n",
              "      <td>-0.259671</td>\n",
              "      <td>-7.916107e-01</td>\n",
              "      <td>-0.535985</td>\n",
              "    </tr>\n",
              "    <tr>\n",
              "      <th>8</th>\n",
              "      <td>-0.840344</td>\n",
              "      <td>0.697615</td>\n",
              "      <td>-0.328602</td>\n",
              "      <td>-0.238947</td>\n",
              "      <td>0.723884</td>\n",
              "      <td>-0.153836</td>\n",
              "      <td>-1.016178</td>\n",
              "      <td>-0.662506</td>\n",
              "      <td>4.615554e-16</td>\n",
              "      <td>1.294820</td>\n",
              "    </tr>\n",
              "    <tr>\n",
              "      <th>9</th>\n",
              "      <td>-0.840344</td>\n",
              "      <td>1.537935</td>\n",
              "      <td>-0.328602</td>\n",
              "      <td>-0.238947</td>\n",
              "      <td>0.723884</td>\n",
              "      <td>-0.153836</td>\n",
              "      <td>0.984080</td>\n",
              "      <td>-1.050764</td>\n",
              "      <td>-6.097279e-01</td>\n",
              "      <td>1.294820</td>\n",
              "    </tr>\n",
              "  </tbody>\n",
              "</table>\n",
              "</div>"
            ],
            "text/plain": [
              "     gender       age  hypertension  heart_disease  ever_married  work_type  \\\n",
              "0  1.188073  1.051434     -0.328602       4.185032      0.723884  -0.153836   \n",
              "1 -0.840344  0.786070     -0.328602      -0.238947      0.723884   0.763438   \n",
              "2  1.188073  1.626390     -0.328602       4.185032      0.723884  -0.153836   \n",
              "3 -0.840344  0.255342     -0.328602      -0.238947      0.723884  -0.153836   \n",
              "4 -0.840344  1.582163      3.043196      -0.238947      0.723884   0.763438   \n",
              "5  1.188073  1.670617     -0.328602      -0.238947      0.723884  -0.153836   \n",
              "6  1.188073  1.361026      3.043196       4.185032      0.723884  -0.153836   \n",
              "7 -0.840344  1.139889     -0.328602      -0.238947     -1.381436  -0.153836   \n",
              "8 -0.840344  0.697615     -0.328602      -0.238947      0.723884  -0.153836   \n",
              "9 -0.840344  1.537935     -0.328602      -0.238947      0.723884  -0.153836   \n",
              "\n",
              "   Residence_type  avg_glucose_level           bmi  smoking_status  \n",
              "0        0.984080           2.706375  1.001234e+00       -1.451388  \n",
              "1       -1.016178           2.121559  4.615554e-16       -0.535985  \n",
              "2       -1.016178          -0.005028  4.685773e-01       -0.535985  \n",
              "3        0.984080           1.437358  7.154182e-01        0.379417  \n",
              "4       -1.016178           1.501184 -6.357112e-01       -0.535985  \n",
              "5        0.984080           1.768195  1.387026e-02       -1.451388  \n",
              "6       -1.016178          -0.796342 -1.939958e-01       -0.535985  \n",
              "7        0.984080          -0.259671 -7.916107e-01       -0.535985  \n",
              "8       -1.016178          -0.662506  4.615554e-16        1.294820  \n",
              "9        0.984080          -1.050764 -6.097279e-01        1.294820  "
            ]
          },
          "execution_count": 75,
          "metadata": {},
          "output_type": "execute_result"
        }
      ],
      "source": [
        "from scipy.stats import zscore\n",
        "import pandas  as pd\n",
        "data = df.iloc[:,:-1]\n",
        "\n",
        "scaler = zscore(data)\n",
        "_normdata = pd.DataFrame(scaler)\n",
        "\n",
        "#_minmax = scaler_min_max()\n",
        "\n",
        "#_sclminmax =\n",
        "_normdata[:10]"
      ]
    },
    {
      "cell_type": "code",
      "execution_count": null,
      "id": "b32a1350-3b3c-41a7-b225-7686b5a1c5a4",
      "metadata": {
        "id": "b32a1350-3b3c-41a7-b225-7686b5a1c5a4",
        "outputId": "54ef63c6-a38f-4184-90bb-c7be35725c83"
      },
      "outputs": [
        {
          "name": "stdout",
          "output_type": "stream",
          "text": [
            "Accuracy: 93.93%\n",
            "accuracy:  0.9393346379647749\n",
            "f1 score macro:  0.4843592330978809\n",
            "f1 score micro:  0.9393346379647749\n",
            "precision score:  0.0\n",
            "recall score:  0.0\n"
          ]
        },
        {
          "name": "stderr",
          "output_type": "stream",
          "text": [
            "C:\\Users\\CSE JnU\\anaconda3\\Lib\\site-packages\\sklearn\\metrics\\_classification.py:1344: UndefinedMetricWarning: Precision is ill-defined and being set to 0.0 due to no predicted samples. Use `zero_division` parameter to control this behavior.\n",
            "  _warn_prf(average, modifier, msg_start, len(result))\n"
          ]
        }
      ],
      "source": [
        "from sklearn.neighbors import KNeighborsClassifier\n",
        "from sklearn.model_selection import train_test_split\n",
        "from sklearn.metrics import accuracy_score\n",
        "import numpy as np\n",
        "\n",
        "# Sample dataset\n",
        "#X = df[['gender', 'age', 'hypertension', 'heart_disease' , 'ever_married', 'work_type' , 'Residence_type' , 'avg_glucose_level' , 'bmi' , 'smoking_status']]\n",
        "X = _normdata\n",
        "y = df['stroke']\n",
        "\n",
        "# Split dataset into training and test sets\n",
        "X_train, X_test, y_train, y_test = train_test_split(X, y, test_size=0.2, random_state=42)\n",
        "\n",
        "# Initialize the KNN classifier\n",
        "knn = KNeighborsClassifier(n_neighbors=8)\n",
        "\n",
        "# Fit the model\n",
        "knn.fit(X_train, y_train)\n",
        "\n",
        "# Predict the labels for test set\n",
        "y_pred = knn.predict(X_test)\n",
        "\n",
        "# Evaluate the accuracy\n",
        "_accuracy = accuracy_score(y_test, y_pred)\n",
        "print(f\"Accuracy: {100*_accuracy:.2f}%\")\n",
        "\n",
        "evaluation_analysis(y_test, y_pred)"
      ]
    },
    {
      "cell_type": "code",
      "execution_count": null,
      "id": "8d3f5deb-0865-4d3b-892a-2075a5d61d53",
      "metadata": {
        "id": "8d3f5deb-0865-4d3b-892a-2075a5d61d53"
      },
      "outputs": [],
      "source": [
        "#confusion matrix\n",
        "from sklearn import metrics as mtk\n",
        "def evaluation_analysis(true_label, predicted):\n",
        "    print('accuracy: ', mtk.accuracy_score(true_label, predicted))\n",
        "    print('f1 score macro: ', mtk.f1_score(true_label, predicted, average='macro'))\n",
        "    print('f1 score micro: ', mtk.f1_score(true_label, predicted, average='micro'))\n",
        "    print('precision score: ', mtk.precision_score(true_label, predicted))\n",
        "    print('recall score: ', mtk.recall_score(true_label, predicted))"
      ]
    },
    {
      "cell_type": "code",
      "execution_count": null,
      "id": "3da36bd3-fb2a-4925-9183-f36c838e34f3",
      "metadata": {
        "id": "3da36bd3-fb2a-4925-9183-f36c838e34f3",
        "outputId": "c2a3159d-75a3-4c44-ef71-f1e7fe682bed"
      },
      "outputs": [
        {
          "name": "stdout",
          "output_type": "stream",
          "text": [
            "[[960   0]\n",
            " [ 62   0]]\n"
          ]
        }
      ],
      "source": [
        "from sklearn.metrics import classification_report, confusion_matrix\n",
        "print(confusion_matrix(y_test, y_pred))"
      ]
    },
    {
      "cell_type": "code",
      "execution_count": null,
      "id": "7deed0d7-6cd6-4ce8-9624-c9e148133ea2",
      "metadata": {
        "id": "7deed0d7-6cd6-4ce8-9624-c9e148133ea2",
        "outputId": "b4af6701-6dd0-4953-f161-7ca5f29e9f46"
      },
      "outputs": [
        {
          "data": {
            "image/png": "[encoded data removed]",
            "text/plain": [
              "<Figure size 800x600 with 1 Axes>"
            ]
          },
          "metadata": {},
          "output_type": "display_data"
        },
        {
          "name": "stdout",
          "output_type": "stream",
          "text": [
            "ROC AUC Score: 0.81\n"
          ]
        }
      ],
      "source": [
        "import numpy as np\n",
        "import matplotlib.pyplot as plt\n",
        "from sklearn.datasets import make_classification\n",
        "from sklearn.model_selection import train_test_split\n",
        "from sklearn.metrics import roc_curve, roc_auc_score\n",
        "from sklearn.ensemble import RandomForestClassifier\n",
        "\n",
        "\n",
        "# Sample dataset\n",
        "#X = df[['gender', 'age', 'hypertension', 'heart_disease' , 'ever_married', 'work_type' , 'Residence_type' , 'avg_glucose_level' , 'bmi' , 'smoking_status']]\n",
        "X = _normdata\n",
        "y = df['stroke']\n",
        "\n",
        "# Split dataset into training and test sets\n",
        "X_train, X_test, y_train, y_test = train_test_split(X, y, test_size=0.2, random_state=42)\n",
        "\n",
        "# Initialize the KNN classifier\n",
        "\n",
        "clf = RandomForestClassifier(n_estimators=100, random_state=42)\n",
        "clf.fit(X_train, y_train)\n",
        "\n",
        "# Getting predicted probabilities\n",
        "y_proba = clf.predict_proba(X_test)[:, 1]\n",
        "\n",
        "# Calculating ROC curve\n",
        "fpr, tpr, thresholds = roc_curve(y_test, y_proba)\n",
        "\n",
        "# Plotting ROC curve\n",
        "plt.figure(figsize=(8, 6))\n",
        "plt.plot(fpr, tpr, color='blue', label='ROC Curve')\n",
        "plt.plot([0, 1], [0, 1], color='red', linestyle='--')\n",
        "plt.xlabel('False Positive Rate')\n",
        "plt.ylabel('True Positive Rate')\n",
        "plt.title('ROC Curve')\n",
        "plt.legend()\n",
        "plt.show()\n",
        "\n",
        "# Calculating ROC AUC score\n",
        "roc_auc = roc_auc_score(y_test, y_proba)\n",
        "print(f'ROC AUC Score: {roc_auc:.2f}')\n"
      ]
    }
  ],
  "metadata": {
    "kernelspec": {
      "display_name": "Python 3 (ipykernel)",
      "language": "python",
      "name": "python3"
    },
    "language_info": {
      "codemirror_mode": {
        "name": "ipython",
        "version": 3
      },
      "file_extension": ".py",
      "mimetype": "text/x-python",
      "name": "python",
      "nbconvert_exporter": "python",
      "pygments_lexer": "ipython3",
      "version": "3.11.7"
    },
    "colab": {
      "provenance": [],
      "include_colab_link": true
    }
  },
  "nbformat": 4,
  "nbformat_minor": 5
}