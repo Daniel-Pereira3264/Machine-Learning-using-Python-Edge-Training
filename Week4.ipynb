{
  "nbformat": 4,
  "nbformat_minor": 0,
  "metadata": {
    "colab": {
      "provenance": [],
      "authorship_tag": "ABX9TyNBE3FyTIpf4j2jWYkKkPed",
      "include_colab_link": true
    },
    "kernelspec": {
      "name": "python3",
      "display_name": "Python 3"
    },
    "language_info": {
      "name": "python"
    }
  },
  "cells": [
    {
      "cell_type": "markdown",
      "metadata": {
        "id": "view-in-github",
        "colab_type": "text"
      },
      "source": [
        "<a href=\"https://colab.research.google.com/github/Daniel-Pereira3264/Machine-Learning-using-Python-Edge-Training/blob/main/Week4.ipynb\" target=\"_parent\"><img src=\"https://colab.research.google.com/assets/colab-badge.svg\" alt=\"Open In Colab\"/></a>"
      ]
    },
    {
      "cell_type": "markdown",
      "source": [
        "\n",
        "1. head() and tail():\n",
        "\n",
        "\n"
      ],
      "metadata": {
        "id": "MsdXUYJXxYep"
      }
    },
    {
      "cell_type": "code",
      "execution_count": null,
      "metadata": {
        "colab": {
          "base_uri": "https://localhost:8080/"
        },
        "id": "MRxZCEPOxJy7",
        "outputId": "46cb6ceb-c0ad-4c74-b4a4-5e168af5a040"
      },
      "outputs": [
        {
          "output_type": "stream",
          "name": "stdout",
          "text": [
            "0    1\n",
            "1    2\n",
            "2    3\n",
            "3    4\n",
            "4    5\n",
            "dtype: int64\n",
            "7     8\n",
            "8     9\n",
            "9    10\n",
            "dtype: int64\n"
          ]
        }
      ],
      "source": [
        "import pandas as pd\n",
        "s = pd.Series([1, 2, 3, 4, 5, 6, 7, 8, 9, 10])\n",
        "print(s.head()) # View first 5 rows\n",
        "print(s.tail(3)) # View last 3 rows"
      ]
    },
    {
      "cell_type": "markdown",
      "source": [
        "2. describe():"
      ],
      "metadata": {
        "id": "jd8q3NyWx4zu"
      }
    },
    {
      "cell_type": "code",
      "source": [
        "import pandas as pd\n",
        "s = pd.Series([1, 2, 3, 4, 5, 6, 7, 8, 9, 10])\n",
        "print(s.head()) # View first 5 rows\n",
        "print(s.tail(3)) # View last 3 rows\n",
        "print(s.describe())"
      ],
      "metadata": {
        "colab": {
          "base_uri": "https://localhost:8080/"
        },
        "id": "FqDFa8pex85m",
        "outputId": "5a54e869-25ed-466c-c5bd-62015fc52b5f"
      },
      "execution_count": null,
      "outputs": [
        {
          "output_type": "stream",
          "name": "stdout",
          "text": [
            "0    1\n",
            "1    2\n",
            "2    3\n",
            "3    4\n",
            "4    5\n",
            "dtype: int64\n",
            "7     8\n",
            "8     9\n",
            "9    10\n",
            "dtype: int64\n",
            "count    10.00000\n",
            "mean      5.50000\n",
            "std       3.02765\n",
            "min       1.00000\n",
            "25%       3.25000\n",
            "50%       5.50000\n",
            "75%       7.75000\n",
            "max      10.00000\n",
            "dtype: float64\n"
          ]
        }
      ]
    },
    {
      "cell_type": "markdown",
      "source": [
        "3. value_counts():"
      ],
      "metadata": {
        "id": "euGpsQLsyp5O"
      }
    },
    {
      "cell_type": "code",
      "source": [
        "s = pd.Series(['a', 'b', 'c', 'a', 'a', 'b', 'c', 'c', 'd'])\n",
        "print(s.value_counts())"
      ],
      "metadata": {
        "colab": {
          "base_uri": "https://localhost:8080/"
        },
        "id": "RtVsgDEPypjG",
        "outputId": "8cfc1c28-fa33-4637-febb-20f22f4e4162"
      },
      "execution_count": null,
      "outputs": [
        {
          "output_type": "stream",
          "name": "stdout",
          "text": [
            "a    3\n",
            "c    3\n",
            "b    2\n",
            "d    1\n",
            "Name: count, dtype: int64\n"
          ]
        }
      ]
    },
    {
      "cell_type": "markdown",
      "source": [
        "4.unique() and nunique():"
      ],
      "metadata": {
        "id": "5Eb1JXzo0FaX"
      }
    },
    {
      "cell_type": "code",
      "source": [
        "s = pd.Series(['a', 'b', 'c', 'a', 'a', 'b', 'c', 'c', 'd'])\n",
        "print(s.unique())\n",
        "print(s.nunique())"
      ],
      "metadata": {
        "colab": {
          "base_uri": "https://localhost:8080/"
        },
        "id": "SRQC0mHj0I3N",
        "outputId": "2a9b729b-1e64-401d-926b-4fc5aafd715d"
      },
      "execution_count": null,
      "outputs": [
        {
          "output_type": "stream",
          "name": "stdout",
          "text": [
            "['a' 'b' 'c' 'd']\n",
            "4\n"
          ]
        }
      ]
    },
    {
      "cell_type": "markdown",
      "source": [
        "5.sort_values() and sort_index():"
      ],
      "metadata": {
        "id": "j49WeJdw0V7g"
      }
    },
    {
      "cell_type": "code",
      "source": [
        "s = pd.Series(['a', 'b', 'c', 'a', 'a', 'b', 'c', 'c', 'd'])\n",
        "print(s.sort_values()) # Sort by values\n",
        "print(s.sort_index()) # Sort by index"
      ],
      "metadata": {
        "colab": {
          "base_uri": "https://localhost:8080/"
        },
        "id": "UMdbpuZu0Yev",
        "outputId": "d05d00c8-82d8-4569-ad5d-87b7e083a25b"
      },
      "execution_count": null,
      "outputs": [
        {
          "output_type": "stream",
          "name": "stdout",
          "text": [
            "0    a\n",
            "3    a\n",
            "4    a\n",
            "1    b\n",
            "5    b\n",
            "2    c\n",
            "6    c\n",
            "7    c\n",
            "8    d\n",
            "dtype: object\n",
            "0    a\n",
            "1    b\n",
            "2    c\n",
            "3    a\n",
            "4    a\n",
            "5    b\n",
            "6    c\n",
            "7    c\n",
            "8    d\n",
            "dtype: object\n"
          ]
        }
      ]
    },
    {
      "cell_type": "markdown",
      "source": [
        "6. isnull() and notnull():"
      ],
      "metadata": {
        "id": "Iv0DbulV0sZt"
      }
    },
    {
      "cell_type": "code",
      "source": [
        "s = pd.Series(['a', 'b', 'c', 'a', None,'a', 'b', 'c', 'c', 'd', None])\n",
        "print(s.isnull())\n",
        "print(s.notnull())"
      ],
      "metadata": {
        "colab": {
          "base_uri": "https://localhost:8080/"
        },
        "id": "Bp5yuKlP0vEl",
        "outputId": "987f858d-3597-460b-d6a2-86e66c2dfc5a"
      },
      "execution_count": null,
      "outputs": [
        {
          "output_type": "stream",
          "name": "stdout",
          "text": [
            "0     False\n",
            "1     False\n",
            "2     False\n",
            "3     False\n",
            "4      True\n",
            "5     False\n",
            "6     False\n",
            "7     False\n",
            "8     False\n",
            "9     False\n",
            "10     True\n",
            "dtype: bool\n",
            "0      True\n",
            "1      True\n",
            "2      True\n",
            "3      True\n",
            "4     False\n",
            "5      True\n",
            "6      True\n",
            "7      True\n",
            "8      True\n",
            "9      True\n",
            "10    False\n",
            "dtype: bool\n"
          ]
        }
      ]
    },
    {
      "cell_type": "markdown",
      "source": [
        "7. fillna():"
      ],
      "metadata": {
        "id": "qW9MPjKa1PKG"
      }
    },
    {
      "cell_type": "code",
      "source": [
        "s = pd.Series(['a', 'b', 'c', 'a', None,'a', 'b', 'c', 'c', 'd', None])\n",
        "print(s.fillna(0)) # Fill NaN with 0"
      ],
      "metadata": {
        "colab": {
          "base_uri": "https://localhost:8080/"
        },
        "id": "tZhyfmpt1VQf",
        "outputId": "782b0370-e96e-4c28-d252-9dd3b5784ed7"
      },
      "execution_count": null,
      "outputs": [
        {
          "output_type": "stream",
          "name": "stdout",
          "text": [
            "0     a\n",
            "1     b\n",
            "2     c\n",
            "3     a\n",
            "4     0\n",
            "5     a\n",
            "6     b\n",
            "7     c\n",
            "8     c\n",
            "9     d\n",
            "10    0\n",
            "dtype: object\n"
          ]
        }
      ]
    },
    {
      "cell_type": "markdown",
      "source": [
        "8. Series with Python functionalities, Boolean Indexing on Series and Plotting graphs on series\n",
        "\n"
      ],
      "metadata": {
        "id": "De3LqqyW1rvX"
      }
    },
    {
      "cell_type": "code",
      "source": [
        "import pandas as pd\n",
        "import matplotlib.pyplot as plt\n",
        "\n",
        "# Creating a Series\n",
        "s = pd.Series([1, 2, 3, 4, 5])\n",
        "\n",
        "# Accessing elements\n",
        "print(s[0]) # Accessing the first element\n",
        "\n",
        "# Slicing\n",
        "print(s[:3]) # Slicing the first three elements\n",
        "\n",
        "# Operations\n",
        "\n",
        "s1 = pd.Series([1, 2, 3])\n",
        "s2 = pd.Series([4, 5, 6])\n",
        "print(s1 + s2) # Element-wise addition\n",
        "\n",
        "# Boolean Indexing\n",
        "print(s[s > 3]) # Selecting elements greater than 3\n",
        "\n",
        "# Plotting\n",
        "s.plot() # Plotting a line graph\n",
        "plt.show()"
      ],
      "metadata": {
        "colab": {
          "base_uri": "https://localhost:8080/",
          "height": 638
        },
        "id": "Bv2w9yHm1uHW",
        "outputId": "c04797f7-13eb-43d4-9b42-18be94a2e8ea"
      },
      "execution_count": null,
      "outputs": [
        {
          "output_type": "stream",
          "name": "stdout",
          "text": [
            "1\n",
            "0    1\n",
            "1    2\n",
            "2    3\n",
            "dtype: int64\n",
            "0    5\n",
            "1    7\n",
            "2    9\n",
            "dtype: int64\n",
            "3    4\n",
            "4    5\n",
            "dtype: int64\n"
          ]
        },
        {
          "output_type": "display_data",
          "data": {
            "text/plain": [
              "<Figure size 640x480 with 1 Axes>"
            ],
            "image/png": "[encoded data removed]"
          },
          "metadata": {}
        }
      ]
    },
    {
      "cell_type": "markdown",
      "source": [
        "9. Pandas DataFrame"
      ],
      "metadata": {
        "id": "R0RHiGOe4QMu"
      }
    },
    {
      "cell_type": "code",
      "source": [
        "import pandas as pd\n",
        "data = {\n",
        "  'calories': [420, 380, 390],\n",
        "  'duration':[50, 40, 45]\n",
        "}\n",
        "#load data into a DataFrame object:\n",
        "df = pd.DataFrame(data)\n",
        "print(df)"
      ],
      "metadata": {
        "colab": {
          "base_uri": "https://localhost:8080/"
        },
        "id": "JCJNmmJ24UTl",
        "outputId": "ec02194e-93bf-4b97-a42e-9359256c8182"
      },
      "execution_count": null,
      "outputs": [
        {
          "output_type": "stream",
          "name": "stdout",
          "text": [
            "   calories  duration\n",
            "0       420        50\n",
            "1       380        40\n",
            "2       390        45\n"
          ]
        }
      ]
    },
    {
      "cell_type": "code",
      "source": [
        "import pandas as pd\n",
        "# Creating a DataFrame\n",
        "data = {'Name' : ['John', 'Emma', 'Ryan', 'Sophia', 'Liam'],\n",
        "\n",
        "'Math': [85, 90, 92, 88, 95],\n",
        "'Science': [88, 85, 90, 92, 86],\n",
        "'History': [75, 80, 85, 88, 90]}\n",
        "\n",
        "df = pd.DataFrame(data)\n",
        "print('Student Scores DataFrame:\\n', df)"
      ],
      "metadata": {
        "colab": {
          "base_uri": "https://localhost:8080/"
        },
        "id": "VRAIUmqn43DX",
        "outputId": "a996d4ab-535d-4f73-c934-88fc6be82e52"
      },
      "execution_count": null,
      "outputs": [
        {
          "output_type": "stream",
          "name": "stdout",
          "text": [
            "Student Scores DataFrame:\n",
            "      Name  Math  Science  History\n",
            "0    John    85       88       75\n",
            "1    Emma    90       85       80\n",
            "2    Ryan    92       90       85\n",
            "3  Sophia    88       92       88\n",
            "4    Liam    95       86       90\n"
          ]
        }
      ]
    },
    {
      "cell_type": "markdown",
      "source": [
        "10. Random dataset"
      ],
      "metadata": {
        "id": "LgtT3qZx6U_Z"
      }
    },
    {
      "cell_type": "code",
      "source": [
        "import pandas as pd\n",
        "import random as rd\n",
        "data_rd = {\n",
        "  'calories': [rd.sample(range(300,500),20)],\n",
        "  'duration': [rd.sample(range(30,60),20)]\n",
        "}\n",
        "#load data into a DataFrame object:\n",
        "df = pd.DataFrame(data_rd)\n",
        "print(df)"
      ],
      "metadata": {
        "colab": {
          "base_uri": "https://localhost:8080/"
        },
        "id": "PgpDKGGo6hwf",
        "outputId": "9dd3ae44-fbc8-4dc0-8b4b-2da3543d1c1b"
      },
      "execution_count": null,
      "outputs": [
        {
          "output_type": "stream",
          "name": "stdout",
          "text": [
            "                                            calories  \\\n",
            "0  [328, 490, 469, 318, 304, 457, 376, 437, 494, ...   \n",
            "\n",
            "                                            duration  \n",
            "0  [56, 35, 54, 41, 33, 38, 44, 51, 45, 59, 34, 4...  \n"
          ]
        }
      ]
    },
    {
      "cell_type": "markdown",
      "source": [
        "11. Calculate average of each subject."
      ],
      "metadata": {
        "id": "Ur-j9dhr8ug6"
      }
    },
    {
      "cell_type": "code",
      "source": [
        "import pandas as pd\n",
        "# Creating a DataFrame\n",
        "data = {'Name' : ['John', 'Emma', 'Ryan', 'Sophia', 'Liam'],\n",
        "        'Math': [85, 90, 92, 88, 95],\n",
        "        'Science': [88, 85, 90, 92, 86],\n",
        "        'History': [75, 80, 85, 88, 90],\n",
        "        }\n",
        "\n",
        "df = pd.DataFrame(data)\n",
        "s1 = df['Math'].mean()\n",
        "s2 = df['Science'].mean()\n",
        "s3 = df['History'].mean()\n",
        "\n",
        "\n",
        "new_data = {'Name' : ['John', 'Emma', 'Ryan', 'Sophia', 'Liam', 'min'],\n",
        "        'Math': [85, 90, 92, 88, 95, s1],\n",
        "        'Science': [88, 85, 90, 92, 86, s2],\n",
        "        'History': [75, 80, 85, 88, 90, s3],\n",
        "        }\n",
        "\n",
        "df = pd.DataFrame(new_data)\n",
        "\n",
        "print('Student Scores DataFrame:\\n', df)"
      ],
      "metadata": {
        "colab": {
          "base_uri": "https://localhost:8080/"
        },
        "id": "hM7X9A0P8zQf",
        "outputId": "7e78f999-d334-4c96-fb53-0bd2dfdc55f9"
      },
      "execution_count": null,
      "outputs": [
        {
          "output_type": "stream",
          "name": "stdout",
          "text": [
            "Student Scores DataFrame:\n",
            "      Name  Math  Science  History\n",
            "0    John  85.0     88.0     75.0\n",
            "1    Emma  90.0     85.0     80.0\n",
            "2    Ryan  92.0     90.0     85.0\n",
            "3  Sophia  88.0     92.0     88.0\n",
            "4    Liam  95.0     86.0     90.0\n",
            "5     min  90.0     88.2     83.6\n"
          ]
        }
      ]
    },
    {
      "cell_type": "markdown",
      "source": [
        "12. Creating DataFrame and read_csv()"
      ],
      "metadata": {
        "id": "xg0rkyMIBhpA"
      }
    },
    {
      "cell_type": "code",
      "source": [
        "import pandas as pd\n",
        "# Reading data from a CSV file\n",
        "df = pd.read_csv('/content/stroke.csv')\n",
        "print('Student Scores DataFrame from CSV:\\n', df)\n",
        "s = df.stroke\n",
        "print(s.value_counts())\n",
        "df.info()\n",
        "df.describe()\n",
        "print(df.groupby('gender')['stroke'].value_counts())"
      ],
      "metadata": {
        "colab": {
          "base_uri": "https://localhost:8080/"
        },
        "id": "9HiJqPFtByFB",
        "outputId": "dd1d7c57-3c57-4c58-c790-11c3844e6311"
      },
      "execution_count": null,
      "outputs": [
        {
          "output_type": "stream",
          "name": "stdout",
          "text": [
            "Student Scores DataFrame from CSV:\n",
            "       gender   age  hypertension  heart_disease ever_married      work_type  \\\n",
            "0       Male  67.0             0              1          Yes        Private   \n",
            "1     Female  61.0             0              0          Yes  Self-employed   \n",
            "2       Male  80.0             0              1          Yes        Private   \n",
            "3     Female  49.0             0              0          Yes        Private   \n",
            "4     Female  79.0             1              0          Yes  Self-employed   \n",
            "...      ...   ...           ...            ...          ...            ...   \n",
            "5105  Female  80.0             1              0          Yes        Private   \n",
            "5106  Female  81.0             0              0          Yes  Self-employed   \n",
            "5107  Female  35.0             0              0          Yes  Self-employed   \n",
            "5108    Male  51.0             0              0          Yes        Private   \n",
            "5109  Female  44.0             0              0          Yes       Govt_job   \n",
            "\n",
            "     Residence_type  avg_glucose_level   bmi   smoking_status  stroke  \n",
            "0             Urban             228.69  36.6  formerly smoked       1  \n",
            "1             Rural             202.21   NaN     never smoked       1  \n",
            "2             Rural             105.92  32.5     never smoked       1  \n",
            "3             Urban             171.23  34.4           smokes       1  \n",
            "4             Rural             174.12  24.0     never smoked       1  \n",
            "...             ...                ...   ...              ...     ...  \n",
            "5105          Urban              83.75   NaN     never smoked       0  \n",
            "5106          Urban             125.20  40.0     never smoked       0  \n",
            "5107          Rural              82.99  30.6     never smoked       0  \n",
            "5108          Rural             166.29  25.6  formerly smoked       0  \n",
            "5109          Urban              85.28  26.2              NaN       0  \n",
            "\n",
            "[5110 rows x 11 columns]\n",
            "stroke\n",
            "0    4861\n",
            "1     249\n",
            "Name: count, dtype: int64\n",
            "<class 'pandas.core.frame.DataFrame'>\n",
            "RangeIndex: 5110 entries, 0 to 5109\n",
            "Data columns (total 11 columns):\n",
            " #   Column             Non-Null Count  Dtype  \n",
            "---  ------             --------------  -----  \n",
            " 0   gender             5110 non-null   object \n",
            " 1   age                5110 non-null   float64\n",
            " 2   hypertension       5110 non-null   int64  \n",
            " 3   heart_disease      5110 non-null   int64  \n",
            " 4   ever_married       5110 non-null   object \n",
            " 5   work_type          5110 non-null   object \n",
            " 6   Residence_type     5110 non-null   object \n",
            " 7   avg_glucose_level  5110 non-null   float64\n",
            " 8   bmi                4909 non-null   float64\n",
            " 9   smoking_status     3566 non-null   object \n",
            " 10  stroke             5110 non-null   int64  \n",
            "dtypes: float64(3), int64(3), object(5)\n",
            "memory usage: 439.3+ KB\n",
            "gender  stroke\n",
            "Female  0         2853\n",
            "        1          141\n",
            "Male    0         2007\n",
            "        1          108\n",
            "Other   0            1\n",
            "Name: count, dtype: int64\n"
          ]
        }
      ]
    },
    {
      "cell_type": "markdown",
      "source": [
        "# Exercise"
      ],
      "metadata": {
        "id": "L3iKPlkQR4Lv"
      }
    },
    {
      "cell_type": "code",
      "source": [
        "from ssl import SSL_ERROR_WANT_X509_LOOKUP\n",
        "import pandas as pd\n",
        "\n",
        "data = {\n",
        "    \"names\": [\"Alice\", \"Bob\", \"Charlie\", \"David\", \"Eve\", \"Frank\", \"George\", \"Harry\", \"Ivan\", \"Jack\"],\n",
        "    \"CSE101\": [90, 85, 75, 80, 95, 70, 88, 92, 65, 83],\n",
        "    \"CSE102\": [80, 70, 90, 85, 92, 88, 75, 83, 78, 91],\n",
        "    \"CSE103\": [75, 83, 88, 70, 80, 92, 85, 72, 91, 87]\n",
        "}\n",
        "\n",
        "df = pd.DataFrame(data)\n",
        "\n",
        "#s1 = df.iloc(0)\n",
        "#s2 = df.iloc(1)\n",
        "#s3 = df.iloc(2)\n",
        "#s4 = df.iloc(3)\n",
        "#s5= df.iloc(4)\n",
        "#s6 = df.iloc(5)\n",
        "#s7 = df.iloc(6)\n",
        "#s8 = df.iloc(7)\n",
        "#s9 = df.iloc(8)\n",
        "#s10 = df.iloc(9)\n",
        "\n",
        "s1= df.mean(axis=0)\n",
        "\n",
        "data_avg = {\n",
        "    \"names\": [\"Alice\", \"Bob\", \"Charlie\", \"David\", \"Eve\", \"Frank\", \"George\", \"Harry\", \"Ivan\", \"Jack\"],\n",
        "    \"CSE101\": [90, 85, 75, 80, 95, 70, 88, 92, 65, 83],\n",
        "    \"CSE102\": [80, 70, 90, 85, 92, 88, 75, 83, 78, 91],\n",
        "    \"CSE103\": [75, 83, 88, 70, 80, 92, 85, 72, 91, 87],\n",
        "    \"Average\": [s1,s2,s3,s4,s5,s6,s7,s8,s9,s10]\n",
        "}\n",
        "df = pd.DataFrame(data_avg)\n",
        "print(df)"
      ],
      "metadata": {
        "colab": {
          "base_uri": "https://localhost:8080/",
          "height": 495
        },
        "id": "F_PRirtFXF-C",
        "outputId": "1753a02e-5781-4ad4-a606-27e35c88d912"
      },
      "execution_count": null,
      "outputs": [
        {
          "output_type": "error",
          "ename": "TypeError",
          "evalue": "Could not convert ['AliceBobCharlieDavidEveFrankGeorgeHarryIvanJack'] to numeric",
          "traceback": [
            "\u001b[0;31m---------------------------------------------------------------------------\u001b[0m",
            "\u001b[0;31mValueError\u001b[0m                                Traceback (most recent call last)",
            "\u001b[0;32m/usr/local/lib/python3.10/dist-packages/pandas/core/nanops.py\u001b[0m in \u001b[0;36m_ensure_numeric\u001b[0;34m(x)\u001b[0m\n\u001b[1;32m   1679\u001b[0m             \u001b[0;32mtry\u001b[0m\u001b[0;34m:\u001b[0m\u001b[0;34m\u001b[0m\u001b[0;34m\u001b[0m\u001b[0m\n\u001b[0;32m-> 1680\u001b[0;31m                 \u001b[0mx\u001b[0m \u001b[0;34m=\u001b[0m \u001b[0mx\u001b[0m\u001b[0;34m.\u001b[0m\u001b[0mastype\u001b[0m\u001b[0;34m(\u001b[0m\u001b[0mnp\u001b[0m\u001b[0;34m.\u001b[0m\u001b[0mcomplex128\u001b[0m\u001b[0;34m)\u001b[0m\u001b[0;34m\u001b[0m\u001b[0;34m\u001b[0m\u001b[0m\n\u001b[0m\u001b[1;32m   1681\u001b[0m             \u001b[0;32mexcept\u001b[0m \u001b[0;34m(\u001b[0m\u001b[0mTypeError\u001b[0m\u001b[0;34m,\u001b[0m \u001b[0mValueError\u001b[0m\u001b[0;34m)\u001b[0m\u001b[0;34m:\u001b[0m\u001b[0;34m\u001b[0m\u001b[0;34m\u001b[0m\u001b[0m\n",
            "\u001b[0;31mValueError\u001b[0m: complex() arg is a malformed string",
            "\nDuring handling of the above exception, another exception occurred:\n",
            "\u001b[0;31mValueError\u001b[0m                                Traceback (most recent call last)",
            "\u001b[0;32m/usr/local/lib/python3.10/dist-packages/pandas/core/nanops.py\u001b[0m in \u001b[0;36m_ensure_numeric\u001b[0;34m(x)\u001b[0m\n\u001b[1;32m   1682\u001b[0m                 \u001b[0;32mtry\u001b[0m\u001b[0;34m:\u001b[0m\u001b[0;34m\u001b[0m\u001b[0;34m\u001b[0m\u001b[0m\n\u001b[0;32m-> 1683\u001b[0;31m                     \u001b[0mx\u001b[0m \u001b[0;34m=\u001b[0m \u001b[0mx\u001b[0m\u001b[0;34m.\u001b[0m\u001b[0mastype\u001b[0m\u001b[0;34m(\u001b[0m\u001b[0mnp\u001b[0m\u001b[0;34m.\u001b[0m\u001b[0mfloat64\u001b[0m\u001b[0;34m)\u001b[0m\u001b[0;34m\u001b[0m\u001b[0;34m\u001b[0m\u001b[0m\n\u001b[0m\u001b[1;32m   1684\u001b[0m                 \u001b[0;32mexcept\u001b[0m \u001b[0mValueError\u001b[0m \u001b[0;32mas\u001b[0m \u001b[0merr\u001b[0m\u001b[0;34m:\u001b[0m\u001b[0;34m\u001b[0m\u001b[0;34m\u001b[0m\u001b[0m\n",
            "\u001b[0;31mValueError\u001b[0m: could not convert string to float: 'AliceBobCharlieDavidEveFrankGeorgeHarryIvanJack'",
            "\nThe above exception was the direct cause of the following exception:\n",
            "\u001b[0;31mTypeError\u001b[0m                                 Traceback (most recent call last)",
            "\u001b[0;32m<ipython-input-77-3108cd3d513f>\u001b[0m in \u001b[0;36m<cell line: 24>\u001b[0;34m()\u001b[0m\n\u001b[1;32m     22\u001b[0m \u001b[0;31m#s10 = df.iloc(9)\u001b[0m\u001b[0;34m\u001b[0m\u001b[0;34m\u001b[0m\u001b[0m\n\u001b[1;32m     23\u001b[0m \u001b[0;34m\u001b[0m\u001b[0m\n\u001b[0;32m---> 24\u001b[0;31m \u001b[0ms1\u001b[0m\u001b[0;34m=\u001b[0m \u001b[0mdf\u001b[0m\u001b[0;34m.\u001b[0m\u001b[0mmean\u001b[0m\u001b[0;34m(\u001b[0m\u001b[0maxis\u001b[0m\u001b[0;34m=\u001b[0m\u001b[0;36m0\u001b[0m\u001b[0;34m)\u001b[0m\u001b[0;34m\u001b[0m\u001b[0;34m\u001b[0m\u001b[0m\n\u001b[0m\u001b[1;32m     25\u001b[0m \u001b[0;34m\u001b[0m\u001b[0m\n\u001b[1;32m     26\u001b[0m data_avg = {\n",
            "\u001b[0;32m/usr/local/lib/python3.10/dist-packages/pandas/core/generic.py\u001b[0m in \u001b[0;36mmean\u001b[0;34m(self, axis, skipna, numeric_only, **kwargs)\u001b[0m\n\u001b[1;32m  11554\u001b[0m             \u001b[0;34m**\u001b[0m\u001b[0mkwargs\u001b[0m\u001b[0;34m,\u001b[0m\u001b[0;34m\u001b[0m\u001b[0;34m\u001b[0m\u001b[0m\n\u001b[1;32m  11555\u001b[0m         ):\n\u001b[0;32m> 11556\u001b[0;31m             \u001b[0;32mreturn\u001b[0m \u001b[0mNDFrame\u001b[0m\u001b[0;34m.\u001b[0m\u001b[0mmean\u001b[0m\u001b[0;34m(\u001b[0m\u001b[0mself\u001b[0m\u001b[0;34m,\u001b[0m \u001b[0maxis\u001b[0m\u001b[0;34m,\u001b[0m \u001b[0mskipna\u001b[0m\u001b[0;34m,\u001b[0m \u001b[0mnumeric_only\u001b[0m\u001b[0;34m,\u001b[0m \u001b[0;34m**\u001b[0m\u001b[0mkwargs\u001b[0m\u001b[0;34m)\u001b[0m\u001b[0;34m\u001b[0m\u001b[0;34m\u001b[0m\u001b[0m\n\u001b[0m\u001b[1;32m  11557\u001b[0m \u001b[0;34m\u001b[0m\u001b[0m\n\u001b[1;32m  11558\u001b[0m         \u001b[0msetattr\u001b[0m\u001b[0;34m(\u001b[0m\u001b[0mcls\u001b[0m\u001b[0;34m,\u001b[0m \u001b[0;34m\"mean\"\u001b[0m\u001b[0;34m,\u001b[0m \u001b[0mmean\u001b[0m\u001b[0;34m)\u001b[0m\u001b[0;34m\u001b[0m\u001b[0;34m\u001b[0m\u001b[0m\n",
            "\u001b[0;32m/usr/local/lib/python3.10/dist-packages/pandas/core/generic.py\u001b[0m in \u001b[0;36mmean\u001b[0;34m(self, axis, skipna, numeric_only, **kwargs)\u001b[0m\n\u001b[1;32m  11199\u001b[0m         \u001b[0;34m**\u001b[0m\u001b[0mkwargs\u001b[0m\u001b[0;34m,\u001b[0m\u001b[0;34m\u001b[0m\u001b[0;34m\u001b[0m\u001b[0m\n\u001b[1;32m  11200\u001b[0m     ) -> Series | float:\n\u001b[0;32m> 11201\u001b[0;31m         return self._stat_function(\n\u001b[0m\u001b[1;32m  11202\u001b[0m             \u001b[0;34m\"mean\"\u001b[0m\u001b[0;34m,\u001b[0m \u001b[0mnanops\u001b[0m\u001b[0;34m.\u001b[0m\u001b[0mnanmean\u001b[0m\u001b[0;34m,\u001b[0m \u001b[0maxis\u001b[0m\u001b[0;34m,\u001b[0m \u001b[0mskipna\u001b[0m\u001b[0;34m,\u001b[0m \u001b[0mnumeric_only\u001b[0m\u001b[0;34m,\u001b[0m \u001b[0;34m**\u001b[0m\u001b[0mkwargs\u001b[0m\u001b[0;34m\u001b[0m\u001b[0;34m\u001b[0m\u001b[0m\n\u001b[1;32m  11203\u001b[0m         )\n",
            "\u001b[0;32m/usr/local/lib/python3.10/dist-packages/pandas/core/generic.py\u001b[0m in \u001b[0;36m_stat_function\u001b[0;34m(self, name, func, axis, skipna, numeric_only, **kwargs)\u001b[0m\n\u001b[1;32m  11156\u001b[0m         \u001b[0mvalidate_bool_kwarg\u001b[0m\u001b[0;34m(\u001b[0m\u001b[0mskipna\u001b[0m\u001b[0;34m,\u001b[0m \u001b[0;34m\"skipna\"\u001b[0m\u001b[0;34m,\u001b[0m \u001b[0mnone_allowed\u001b[0m\u001b[0;34m=\u001b[0m\u001b[0;32mFalse\u001b[0m\u001b[0;34m)\u001b[0m\u001b[0;34m\u001b[0m\u001b[0;34m\u001b[0m\u001b[0m\n\u001b[1;32m  11157\u001b[0m \u001b[0;34m\u001b[0m\u001b[0m\n\u001b[0;32m> 11158\u001b[0;31m         return self._reduce(\n\u001b[0m\u001b[1;32m  11159\u001b[0m             \u001b[0mfunc\u001b[0m\u001b[0;34m,\u001b[0m \u001b[0mname\u001b[0m\u001b[0;34m=\u001b[0m\u001b[0mname\u001b[0m\u001b[0;34m,\u001b[0m \u001b[0maxis\u001b[0m\u001b[0;34m=\u001b[0m\u001b[0maxis\u001b[0m\u001b[0;34m,\u001b[0m \u001b[0mskipna\u001b[0m\u001b[0;34m=\u001b[0m\u001b[0mskipna\u001b[0m\u001b[0;34m,\u001b[0m \u001b[0mnumeric_only\u001b[0m\u001b[0;34m=\u001b[0m\u001b[0mnumeric_only\u001b[0m\u001b[0;34m\u001b[0m\u001b[0;34m\u001b[0m\u001b[0m\n\u001b[1;32m  11160\u001b[0m         )\n",
            "\u001b[0;32m/usr/local/lib/python3.10/dist-packages/pandas/core/frame.py\u001b[0m in \u001b[0;36m_reduce\u001b[0;34m(self, op, name, axis, skipna, numeric_only, filter_type, **kwds)\u001b[0m\n\u001b[1;32m  10517\u001b[0m         \u001b[0;31m# After possibly _get_data and transposing, we are now in the\u001b[0m\u001b[0;34m\u001b[0m\u001b[0;34m\u001b[0m\u001b[0m\n\u001b[1;32m  10518\u001b[0m         \u001b[0;31m#  simple case where we can use BlockManager.reduce\u001b[0m\u001b[0;34m\u001b[0m\u001b[0;34m\u001b[0m\u001b[0m\n\u001b[0;32m> 10519\u001b[0;31m         \u001b[0mres\u001b[0m \u001b[0;34m=\u001b[0m \u001b[0mdf\u001b[0m\u001b[0;34m.\u001b[0m\u001b[0m_mgr\u001b[0m\u001b[0;34m.\u001b[0m\u001b[0mreduce\u001b[0m\u001b[0;34m(\u001b[0m\u001b[0mblk_func\u001b[0m\u001b[0;34m)\u001b[0m\u001b[0;34m\u001b[0m\u001b[0;34m\u001b[0m\u001b[0m\n\u001b[0m\u001b[1;32m  10520\u001b[0m         \u001b[0mout\u001b[0m \u001b[0;34m=\u001b[0m \u001b[0mdf\u001b[0m\u001b[0;34m.\u001b[0m\u001b[0m_constructor\u001b[0m\u001b[0;34m(\u001b[0m\u001b[0mres\u001b[0m\u001b[0;34m)\u001b[0m\u001b[0;34m.\u001b[0m\u001b[0miloc\u001b[0m\u001b[0;34m[\u001b[0m\u001b[0;36m0\u001b[0m\u001b[0;34m]\u001b[0m\u001b[0;34m\u001b[0m\u001b[0;34m\u001b[0m\u001b[0m\n\u001b[1;32m  10521\u001b[0m         \u001b[0;32mif\u001b[0m \u001b[0mout_dtype\u001b[0m \u001b[0;32mis\u001b[0m \u001b[0;32mnot\u001b[0m \u001b[0;32mNone\u001b[0m\u001b[0;34m:\u001b[0m\u001b[0;34m\u001b[0m\u001b[0;34m\u001b[0m\u001b[0m\n",
            "\u001b[0;32m/usr/local/lib/python3.10/dist-packages/pandas/core/internals/managers.py\u001b[0m in \u001b[0;36mreduce\u001b[0;34m(self, func)\u001b[0m\n\u001b[1;32m   1532\u001b[0m         \u001b[0mres_blocks\u001b[0m\u001b[0;34m:\u001b[0m \u001b[0mlist\u001b[0m\u001b[0;34m[\u001b[0m\u001b[0mBlock\u001b[0m\u001b[0;34m]\u001b[0m \u001b[0;34m=\u001b[0m \u001b[0;34m[\u001b[0m\u001b[0;34m]\u001b[0m\u001b[0;34m\u001b[0m\u001b[0;34m\u001b[0m\u001b[0m\n\u001b[1;32m   1533\u001b[0m         \u001b[0;32mfor\u001b[0m \u001b[0mblk\u001b[0m \u001b[0;32min\u001b[0m \u001b[0mself\u001b[0m\u001b[0;34m.\u001b[0m\u001b[0mblocks\u001b[0m\u001b[0;34m:\u001b[0m\u001b[0;34m\u001b[0m\u001b[0;34m\u001b[0m\u001b[0m\n\u001b[0;32m-> 1534\u001b[0;31m             \u001b[0mnbs\u001b[0m \u001b[0;34m=\u001b[0m \u001b[0mblk\u001b[0m\u001b[0;34m.\u001b[0m\u001b[0mreduce\u001b[0m\u001b[0;34m(\u001b[0m\u001b[0mfunc\u001b[0m\u001b[0;34m)\u001b[0m\u001b[0;34m\u001b[0m\u001b[0;34m\u001b[0m\u001b[0m\n\u001b[0m\u001b[1;32m   1535\u001b[0m             \u001b[0mres_blocks\u001b[0m\u001b[0;34m.\u001b[0m\u001b[0mextend\u001b[0m\u001b[0;34m(\u001b[0m\u001b[0mnbs\u001b[0m\u001b[0;34m)\u001b[0m\u001b[0;34m\u001b[0m\u001b[0;34m\u001b[0m\u001b[0m\n\u001b[1;32m   1536\u001b[0m \u001b[0;34m\u001b[0m\u001b[0m\n",
            "\u001b[0;32m/usr/local/lib/python3.10/dist-packages/pandas/core/internals/blocks.py\u001b[0m in \u001b[0;36mreduce\u001b[0;34m(self, func)\u001b[0m\n\u001b[1;32m    337\u001b[0m         \u001b[0;32massert\u001b[0m \u001b[0mself\u001b[0m\u001b[0;34m.\u001b[0m\u001b[0mndim\u001b[0m \u001b[0;34m==\u001b[0m \u001b[0;36m2\u001b[0m\u001b[0;34m\u001b[0m\u001b[0;34m\u001b[0m\u001b[0m\n\u001b[1;32m    338\u001b[0m \u001b[0;34m\u001b[0m\u001b[0m\n\u001b[0;32m--> 339\u001b[0;31m         \u001b[0mresult\u001b[0m \u001b[0;34m=\u001b[0m \u001b[0mfunc\u001b[0m\u001b[0;34m(\u001b[0m\u001b[0mself\u001b[0m\u001b[0;34m.\u001b[0m\u001b[0mvalues\u001b[0m\u001b[0;34m)\u001b[0m\u001b[0;34m\u001b[0m\u001b[0;34m\u001b[0m\u001b[0m\n\u001b[0m\u001b[1;32m    340\u001b[0m \u001b[0;34m\u001b[0m\u001b[0m\n\u001b[1;32m    341\u001b[0m         \u001b[0;32mif\u001b[0m \u001b[0mself\u001b[0m\u001b[0;34m.\u001b[0m\u001b[0mvalues\u001b[0m\u001b[0;34m.\u001b[0m\u001b[0mndim\u001b[0m \u001b[0;34m==\u001b[0m \u001b[0;36m1\u001b[0m\u001b[0;34m:\u001b[0m\u001b[0;34m\u001b[0m\u001b[0;34m\u001b[0m\u001b[0m\n",
            "\u001b[0;32m/usr/local/lib/python3.10/dist-packages/pandas/core/frame.py\u001b[0m in \u001b[0;36mblk_func\u001b[0;34m(values, axis)\u001b[0m\n\u001b[1;32m  10480\u001b[0m                 \u001b[0;32mreturn\u001b[0m \u001b[0mvalues\u001b[0m\u001b[0;34m.\u001b[0m\u001b[0m_reduce\u001b[0m\u001b[0;34m(\u001b[0m\u001b[0mname\u001b[0m\u001b[0;34m,\u001b[0m \u001b[0mskipna\u001b[0m\u001b[0;34m=\u001b[0m\u001b[0mskipna\u001b[0m\u001b[0;34m,\u001b[0m \u001b[0;34m**\u001b[0m\u001b[0mkwds\u001b[0m\u001b[0;34m)\u001b[0m\u001b[0;34m\u001b[0m\u001b[0;34m\u001b[0m\u001b[0m\n\u001b[1;32m  10481\u001b[0m             \u001b[0;32melse\u001b[0m\u001b[0;34m:\u001b[0m\u001b[0;34m\u001b[0m\u001b[0;34m\u001b[0m\u001b[0m\n\u001b[0;32m> 10482\u001b[0;31m                 \u001b[0;32mreturn\u001b[0m \u001b[0mop\u001b[0m\u001b[0;34m(\u001b[0m\u001b[0mvalues\u001b[0m\u001b[0;34m,\u001b[0m \u001b[0maxis\u001b[0m\u001b[0;34m=\u001b[0m\u001b[0maxis\u001b[0m\u001b[0;34m,\u001b[0m \u001b[0mskipna\u001b[0m\u001b[0;34m=\u001b[0m\u001b[0mskipna\u001b[0m\u001b[0;34m,\u001b[0m \u001b[0;34m**\u001b[0m\u001b[0mkwds\u001b[0m\u001b[0;34m)\u001b[0m\u001b[0;34m\u001b[0m\u001b[0;34m\u001b[0m\u001b[0m\n\u001b[0m\u001b[1;32m  10483\u001b[0m \u001b[0;34m\u001b[0m\u001b[0m\n\u001b[1;32m  10484\u001b[0m         \u001b[0;32mdef\u001b[0m \u001b[0m_get_data\u001b[0m\u001b[0;34m(\u001b[0m\u001b[0;34m)\u001b[0m \u001b[0;34m->\u001b[0m \u001b[0mDataFrame\u001b[0m\u001b[0;34m:\u001b[0m\u001b[0;34m\u001b[0m\u001b[0;34m\u001b[0m\u001b[0m\n",
            "\u001b[0;32m/usr/local/lib/python3.10/dist-packages/pandas/core/nanops.py\u001b[0m in \u001b[0;36m_f\u001b[0;34m(*args, **kwargs)\u001b[0m\n\u001b[1;32m     94\u001b[0m             \u001b[0;32mtry\u001b[0m\u001b[0;34m:\u001b[0m\u001b[0;34m\u001b[0m\u001b[0;34m\u001b[0m\u001b[0m\n\u001b[1;32m     95\u001b[0m                 \u001b[0;32mwith\u001b[0m \u001b[0mnp\u001b[0m\u001b[0;34m.\u001b[0m\u001b[0merrstate\u001b[0m\u001b[0;34m(\u001b[0m\u001b[0minvalid\u001b[0m\u001b[0;34m=\u001b[0m\u001b[0;34m\"ignore\"\u001b[0m\u001b[0;34m)\u001b[0m\u001b[0;34m:\u001b[0m\u001b[0;34m\u001b[0m\u001b[0;34m\u001b[0m\u001b[0m\n\u001b[0;32m---> 96\u001b[0;31m                     \u001b[0;32mreturn\u001b[0m \u001b[0mf\u001b[0m\u001b[0;34m(\u001b[0m\u001b[0;34m*\u001b[0m\u001b[0margs\u001b[0m\u001b[0;34m,\u001b[0m \u001b[0;34m**\u001b[0m\u001b[0mkwargs\u001b[0m\u001b[0;34m)\u001b[0m\u001b[0;34m\u001b[0m\u001b[0;34m\u001b[0m\u001b[0m\n\u001b[0m\u001b[1;32m     97\u001b[0m             \u001b[0;32mexcept\u001b[0m \u001b[0mValueError\u001b[0m \u001b[0;32mas\u001b[0m \u001b[0me\u001b[0m\u001b[0;34m:\u001b[0m\u001b[0;34m\u001b[0m\u001b[0;34m\u001b[0m\u001b[0m\n\u001b[1;32m     98\u001b[0m                 \u001b[0;31m# we want to transform an object array\u001b[0m\u001b[0;34m\u001b[0m\u001b[0;34m\u001b[0m\u001b[0m\n",
            "\u001b[0;32m/usr/local/lib/python3.10/dist-packages/pandas/core/nanops.py\u001b[0m in \u001b[0;36mf\u001b[0;34m(values, axis, skipna, **kwds)\u001b[0m\n\u001b[1;32m    156\u001b[0m                     \u001b[0mresult\u001b[0m \u001b[0;34m=\u001b[0m \u001b[0malt\u001b[0m\u001b[0;34m(\u001b[0m\u001b[0mvalues\u001b[0m\u001b[0;34m,\u001b[0m \u001b[0maxis\u001b[0m\u001b[0;34m=\u001b[0m\u001b[0maxis\u001b[0m\u001b[0;34m,\u001b[0m \u001b[0mskipna\u001b[0m\u001b[0;34m=\u001b[0m\u001b[0mskipna\u001b[0m\u001b[0;34m,\u001b[0m \u001b[0;34m**\u001b[0m\u001b[0mkwds\u001b[0m\u001b[0;34m)\u001b[0m\u001b[0;34m\u001b[0m\u001b[0;34m\u001b[0m\u001b[0m\n\u001b[1;32m    157\u001b[0m             \u001b[0;32melse\u001b[0m\u001b[0;34m:\u001b[0m\u001b[0;34m\u001b[0m\u001b[0;34m\u001b[0m\u001b[0m\n\u001b[0;32m--> 158\u001b[0;31m                 \u001b[0mresult\u001b[0m \u001b[0;34m=\u001b[0m \u001b[0malt\u001b[0m\u001b[0;34m(\u001b[0m\u001b[0mvalues\u001b[0m\u001b[0;34m,\u001b[0m \u001b[0maxis\u001b[0m\u001b[0;34m=\u001b[0m\u001b[0maxis\u001b[0m\u001b[0;34m,\u001b[0m \u001b[0mskipna\u001b[0m\u001b[0;34m=\u001b[0m\u001b[0mskipna\u001b[0m\u001b[0;34m,\u001b[0m \u001b[0;34m**\u001b[0m\u001b[0mkwds\u001b[0m\u001b[0;34m)\u001b[0m\u001b[0;34m\u001b[0m\u001b[0;34m\u001b[0m\u001b[0m\n\u001b[0m\u001b[1;32m    159\u001b[0m \u001b[0;34m\u001b[0m\u001b[0m\n\u001b[1;32m    160\u001b[0m             \u001b[0;32mreturn\u001b[0m \u001b[0mresult\u001b[0m\u001b[0;34m\u001b[0m\u001b[0;34m\u001b[0m\u001b[0m\n",
            "\u001b[0;32m/usr/local/lib/python3.10/dist-packages/pandas/core/nanops.py\u001b[0m in \u001b[0;36mnew_func\u001b[0;34m(values, axis, skipna, mask, **kwargs)\u001b[0m\n\u001b[1;32m    419\u001b[0m             \u001b[0mmask\u001b[0m \u001b[0;34m=\u001b[0m \u001b[0misna\u001b[0m\u001b[0;34m(\u001b[0m\u001b[0mvalues\u001b[0m\u001b[0;34m)\u001b[0m\u001b[0;34m\u001b[0m\u001b[0;34m\u001b[0m\u001b[0m\n\u001b[1;32m    420\u001b[0m \u001b[0;34m\u001b[0m\u001b[0m\n\u001b[0;32m--> 421\u001b[0;31m         \u001b[0mresult\u001b[0m \u001b[0;34m=\u001b[0m \u001b[0mfunc\u001b[0m\u001b[0;34m(\u001b[0m\u001b[0mvalues\u001b[0m\u001b[0;34m,\u001b[0m \u001b[0maxis\u001b[0m\u001b[0;34m=\u001b[0m\u001b[0maxis\u001b[0m\u001b[0;34m,\u001b[0m \u001b[0mskipna\u001b[0m\u001b[0;34m=\u001b[0m\u001b[0mskipna\u001b[0m\u001b[0;34m,\u001b[0m \u001b[0mmask\u001b[0m\u001b[0;34m=\u001b[0m\u001b[0mmask\u001b[0m\u001b[0;34m,\u001b[0m \u001b[0;34m**\u001b[0m\u001b[0mkwargs\u001b[0m\u001b[0;34m)\u001b[0m\u001b[0;34m\u001b[0m\u001b[0;34m\u001b[0m\u001b[0m\n\u001b[0m\u001b[1;32m    422\u001b[0m \u001b[0;34m\u001b[0m\u001b[0m\n\u001b[1;32m    423\u001b[0m         \u001b[0;32mif\u001b[0m \u001b[0mdatetimelike\u001b[0m\u001b[0;34m:\u001b[0m\u001b[0;34m\u001b[0m\u001b[0;34m\u001b[0m\u001b[0m\n",
            "\u001b[0;32m/usr/local/lib/python3.10/dist-packages/pandas/core/nanops.py\u001b[0m in \u001b[0;36mnanmean\u001b[0;34m(values, axis, skipna, mask)\u001b[0m\n\u001b[1;32m    725\u001b[0m \u001b[0;34m\u001b[0m\u001b[0m\n\u001b[1;32m    726\u001b[0m     \u001b[0mcount\u001b[0m \u001b[0;34m=\u001b[0m \u001b[0m_get_counts\u001b[0m\u001b[0;34m(\u001b[0m\u001b[0mvalues\u001b[0m\u001b[0;34m.\u001b[0m\u001b[0mshape\u001b[0m\u001b[0;34m,\u001b[0m \u001b[0mmask\u001b[0m\u001b[0;34m,\u001b[0m \u001b[0maxis\u001b[0m\u001b[0;34m,\u001b[0m \u001b[0mdtype\u001b[0m\u001b[0;34m=\u001b[0m\u001b[0mdtype_count\u001b[0m\u001b[0;34m)\u001b[0m\u001b[0;34m\u001b[0m\u001b[0;34m\u001b[0m\u001b[0m\n\u001b[0;32m--> 727\u001b[0;31m     \u001b[0mthe_sum\u001b[0m \u001b[0;34m=\u001b[0m \u001b[0m_ensure_numeric\u001b[0m\u001b[0;34m(\u001b[0m\u001b[0mvalues\u001b[0m\u001b[0;34m.\u001b[0m\u001b[0msum\u001b[0m\u001b[0;34m(\u001b[0m\u001b[0maxis\u001b[0m\u001b[0;34m,\u001b[0m \u001b[0mdtype\u001b[0m\u001b[0;34m=\u001b[0m\u001b[0mdtype_sum\u001b[0m\u001b[0;34m)\u001b[0m\u001b[0;34m)\u001b[0m\u001b[0;34m\u001b[0m\u001b[0;34m\u001b[0m\u001b[0m\n\u001b[0m\u001b[1;32m    728\u001b[0m \u001b[0;34m\u001b[0m\u001b[0m\n\u001b[1;32m    729\u001b[0m     \u001b[0;32mif\u001b[0m \u001b[0maxis\u001b[0m \u001b[0;32mis\u001b[0m \u001b[0;32mnot\u001b[0m \u001b[0;32mNone\u001b[0m \u001b[0;32mand\u001b[0m \u001b[0mgetattr\u001b[0m\u001b[0;34m(\u001b[0m\u001b[0mthe_sum\u001b[0m\u001b[0;34m,\u001b[0m \u001b[0;34m\"ndim\"\u001b[0m\u001b[0;34m,\u001b[0m \u001b[0;32mFalse\u001b[0m\u001b[0;34m)\u001b[0m\u001b[0;34m:\u001b[0m\u001b[0;34m\u001b[0m\u001b[0;34m\u001b[0m\u001b[0m\n",
            "\u001b[0;32m/usr/local/lib/python3.10/dist-packages/pandas/core/nanops.py\u001b[0m in \u001b[0;36m_ensure_numeric\u001b[0;34m(x)\u001b[0m\n\u001b[1;32m   1684\u001b[0m                 \u001b[0;32mexcept\u001b[0m \u001b[0mValueError\u001b[0m \u001b[0;32mas\u001b[0m \u001b[0merr\u001b[0m\u001b[0;34m:\u001b[0m\u001b[0;34m\u001b[0m\u001b[0;34m\u001b[0m\u001b[0m\n\u001b[1;32m   1685\u001b[0m                     \u001b[0;31m# GH#29941 we get here with object arrays containing strs\u001b[0m\u001b[0;34m\u001b[0m\u001b[0;34m\u001b[0m\u001b[0m\n\u001b[0;32m-> 1686\u001b[0;31m                     \u001b[0;32mraise\u001b[0m \u001b[0mTypeError\u001b[0m\u001b[0;34m(\u001b[0m\u001b[0;34mf\"Could not convert {x} to numeric\"\u001b[0m\u001b[0;34m)\u001b[0m \u001b[0;32mfrom\u001b[0m \u001b[0merr\u001b[0m\u001b[0;34m\u001b[0m\u001b[0;34m\u001b[0m\u001b[0m\n\u001b[0m\u001b[1;32m   1687\u001b[0m             \u001b[0;32melse\u001b[0m\u001b[0;34m:\u001b[0m\u001b[0;34m\u001b[0m\u001b[0;34m\u001b[0m\u001b[0m\n\u001b[1;32m   1688\u001b[0m                 \u001b[0;32mif\u001b[0m \u001b[0;32mnot\u001b[0m \u001b[0mnp\u001b[0m\u001b[0;34m.\u001b[0m\u001b[0many\u001b[0m\u001b[0;34m(\u001b[0m\u001b[0mnp\u001b[0m\u001b[0;34m.\u001b[0m\u001b[0mimag\u001b[0m\u001b[0;34m(\u001b[0m\u001b[0mx\u001b[0m\u001b[0;34m)\u001b[0m\u001b[0;34m)\u001b[0m\u001b[0;34m:\u001b[0m\u001b[0;34m\u001b[0m\u001b[0;34m\u001b[0m\u001b[0m\n",
            "\u001b[0;31mTypeError\u001b[0m: Could not convert ['AliceBobCharlieDavidEveFrankGeorgeHarryIvanJack'] to numeric"
          ]
        }
      ]
    },
    {
      "cell_type": "code",
      "source": [
        "import pandas as pd\n",
        "import random\n",
        "# Creating a DataFrame\n",
        "student_info = {'Name': ['Aaron', 'Brandon', 'Catherine', 'Damian', 'Elsa', 'Furina', 'Gordon', 'Jean', 'Makoto', 'Yukina'],\n",
        "        'Math': random.sample(range(1, 100), 10),\n",
        "        'Science': random.sample(range(1, 100), 10),\n",
        "        'History': random.sample(range(1, 100), 10)\n",
        "            }\n",
        "si=pd.DataFrame(student_info)\n",
        "print(si)\n",
        "print(\"-------------------------\")\n",
        "avg=si[['Math', 'Science', 'History']].mean(axis=1)\n",
        "std=zip(student_info['Name'], avg)\n",
        "for name, avg in std:\n",
        "    print(f\"{name}:{avg}\")\n",
        "\n",
        "\n",
        "\n"
      ],
      "metadata": {
        "colab": {
          "base_uri": "https://localhost:8080/"
        },
        "id": "KTts0qF7Z1zN",
        "outputId": "375bf83e-5710-4692-8458-41635d77bedb"
      },
      "execution_count": null,
      "outputs": [
        {
          "output_type": "stream",
          "name": "stdout",
          "text": [
            "        Name  Math  Science  History\n",
            "0      Aaron     1       30       16\n",
            "1    Brandon    72       89       75\n",
            "2  Catherine    73       80       59\n",
            "3     Damian     2        2       45\n",
            "4       Elsa    23       84       42\n",
            "5     Furina    82       72       80\n",
            "6     Gordon    29       51       31\n",
            "7       Jean    70       16       61\n",
            "8     Makoto     9       54       91\n",
            "9     Yukina    89        7       46\n",
            "-------------------------\n",
            "Aaron:15.666666666666666\n",
            "Brandon:78.66666666666667\n",
            "Catherine:70.66666666666667\n",
            "Damian:16.333333333333332\n",
            "Elsa:49.666666666666664\n",
            "Furina:78.0\n",
            "Gordon:37.0\n",
            "Jean:49.0\n",
            "Makoto:51.333333333333336\n",
            "Yukina:47.333333333333336\n"
          ]
        }
      ]
    },
    {
      "cell_type": "markdown",
      "source": [
        "13.Methods"
      ],
      "metadata": {
        "id": "xKIrHAbkqm4g"
      }
    },
    {
      "cell_type": "code",
      "source": [
        "import pandas as pd\n",
        "\n",
        "# Creating a sample DataFrame\n",
        "data = {'Name': ['John', 'Emma', 'Ryan', 'Sophia', 'Liam'],\n",
        "        'Age': [25, 30, 28, 35, 40],\n",
        "        'Gender': ['M', 'F', 'M', 'F', 'M'],\n",
        "        'Salary': [50000, 60000, 55000, 70000, 65000]}\n",
        "df = pd.DataFrame(data)\n",
        "\n",
        "# Attributes\n",
        "print(\"DataFrame Shape:\", df.shape)\n",
        "print(\"Column Labels:\", df.columns)\n",
        "print(\"Row Labels:\", df.index)\n",
        "print(\"Data Types of Columns:\\n\", df.dtypes)\n",
        "print(\"DataFrame Values:\\n\", df.values)\n",
        "print(\"First 3 Rows:\\n\", df.head(3))\n",
        "print(\"Last 2 Rows:\\n\", df.tail(2))\n",
        "print(\"DataFrame Info:\")\n",
        "df.info()\n",
        "\n",
        "# Methods\n",
        "print(\"\\nDescriptive Statistics:\\n\", df.describe())\n",
        "print(\"\\nMean Salary:\", df['Salary'].mean())\n",
        "print(\"Median Age:\", df['Age'].median())\n",
        "print(\"Minimum Salary:\", df['Salary'].min())\n",
        "print(\"Maximum Age:\", df['Age'].max())\n",
        "print(\"\\nCount of non-null values:\\n\", df.count())\n",
        "print(\"Standard Deviation of Salary:\", df['Salary'].std())\n",
        "print(\"Variance of Age:\", df['Age'].var())\n",
        "print(\"\\nDrop Rows with Missing Values:\")\n",
        "print(df.dropna())\n",
        "print(\"\\nSort DataFrame by Age in Descending Order:\")\n",
        "print(df.sort_values(by='Age', ascending=False))\n",
        "print(\"\\nGroup by Gender and Calculate Mean Salary:\")\n",
        "print(df.groupby('Gender')['Salary'].mean())\n",
        "print(\"\\nPivot Table:\")\n",
        "print(pd.pivot_table(df, values='Salary', index='Gender', aggfunc='mean'))\n",
        "print(\"\\nFill Missing Values with 0:\")\n",
        "print(df.fillna(0))\n",
        "\n"
      ],
      "metadata": {
        "colab": {
          "base_uri": "https://localhost:8080/"
        },
        "id": "hP0KBiHmq2YA",
        "outputId": "ebb47ab4-f260-4028-87ad-d5d32d8128c0"
      },
      "execution_count": null,
      "outputs": [
        {
          "output_type": "stream",
          "name": "stdout",
          "text": [
            "DataFrame Shape: (5, 4)\n",
            "Column Labels: Index(['Name', 'Age', 'Gender', 'Salary'], dtype='object')\n",
            "Row Labels: RangeIndex(start=0, stop=5, step=1)\n",
            "Data Types of Columns:\n",
            " Name      object\n",
            "Age        int64\n",
            "Gender    object\n",
            "Salary     int64\n",
            "dtype: object\n",
            "DataFrame Values:\n",
            " [['John' 25 'M' 50000]\n",
            " ['Emma' 30 'F' 60000]\n",
            " ['Ryan' 28 'M' 55000]\n",
            " ['Sophia' 35 'F' 70000]\n",
            " ['Liam' 40 'M' 65000]]\n",
            "First 3 Rows:\n",
            "    Name  Age Gender  Salary\n",
            "0  John   25      M   50000\n",
            "1  Emma   30      F   60000\n",
            "2  Ryan   28      M   55000\n",
            "Last 2 Rows:\n",
            "      Name  Age Gender  Salary\n",
            "3  Sophia   35      F   70000\n",
            "4    Liam   40      M   65000\n",
            "DataFrame Info:\n",
            "<class 'pandas.core.frame.DataFrame'>\n",
            "RangeIndex: 5 entries, 0 to 4\n",
            "Data columns (total 4 columns):\n",
            " #   Column  Non-Null Count  Dtype \n",
            "---  ------  --------------  ----- \n",
            " 0   Name    5 non-null      object\n",
            " 1   Age     5 non-null      int64 \n",
            " 2   Gender  5 non-null      object\n",
            " 3   Salary  5 non-null      int64 \n",
            "dtypes: int64(2), object(2)\n",
            "memory usage: 288.0+ bytes\n",
            "\n",
            "Descriptive Statistics:\n",
            "             Age       Salary\n",
            "count   5.00000      5.00000\n",
            "mean   31.60000  60000.00000\n",
            "std     5.94138   7905.69415\n",
            "min    25.00000  50000.00000\n",
            "25%    28.00000  55000.00000\n",
            "50%    30.00000  60000.00000\n",
            "75%    35.00000  65000.00000\n",
            "max    40.00000  70000.00000\n",
            "\n",
            "Mean Salary: 60000.0\n",
            "Median Age: 30.0\n",
            "Minimum Salary: 50000\n",
            "Maximum Age: 40\n",
            "\n",
            "Count of non-null values:\n",
            " Name      5\n",
            "Age       5\n",
            "Gender    5\n",
            "Salary    5\n",
            "dtype: int64\n",
            "Standard Deviation of Salary: 7905.694150420948\n",
            "Variance of Age: 35.3\n",
            "\n",
            "Drop Rows with Missing Values:\n",
            "     Name  Age Gender  Salary\n",
            "0    John   25      M   50000\n",
            "1    Emma   30      F   60000\n",
            "2    Ryan   28      M   55000\n",
            "3  Sophia   35      F   70000\n",
            "4    Liam   40      M   65000\n",
            "\n",
            "Sort DataFrame by Age in Descending Order:\n",
            "     Name  Age Gender  Salary\n",
            "4    Liam   40      M   65000\n",
            "3  Sophia   35      F   70000\n",
            "1    Emma   30      F   60000\n",
            "2    Ryan   28      M   55000\n",
            "0    John   25      M   50000\n",
            "\n",
            "Group by Gender and Calculate Mean Salary:\n",
            "Gender\n",
            "F    65000.000000\n",
            "M    56666.666667\n",
            "Name: Salary, dtype: float64\n",
            "\n",
            "Pivot Table:\n",
            "              Salary\n",
            "Gender              \n",
            "F       65000.000000\n",
            "M       56666.666667\n",
            "\n",
            "Fill Missing Values with 0:\n",
            "     Name  Age Gender  Salary\n",
            "0    John   25      M   50000\n",
            "1    Emma   30      F   60000\n",
            "2    Ryan   28      M   55000\n",
            "3  Sophia   35      F   70000\n",
            "4    Liam   40      M   65000\n"
          ]
        }
      ]
    },
    {
      "cell_type": "markdown",
      "source": [
        "14. Selecting cols and rows from dataframe"
      ],
      "metadata": {
        "id": "QOSUgJ8dr5qt"
      }
    },
    {
      "cell_type": "code",
      "source": [
        "import pandas as pd\n",
        "\n",
        "# Creating a sample DataFrame\n",
        "data = {'Name': ['John', 'Emma', 'Ryan', 'Sophia', 'Liam'],\n",
        "        'Age': [25, 30, 28, 35, 40],\n",
        "        'Gender': ['M', 'F', 'M', 'F', 'M'],\n",
        "        'Salary': [50000, 60000, 55000, 70000, 65000]}\n",
        "df = pd.DataFrame(data)\n",
        "\n",
        "# Selecting Columns\n",
        "# Method 1: Using column names\n",
        "selected_columns = df[['Name', 'Age']]\n",
        "print(\"Selected Columns (Name and Age):\\n\", selected_columns)\n",
        "\n",
        "# Method 2: Using df.loc or df.iloc\n",
        "selected_columns_loc = df.loc[:, ['Name', 'Age']]\n",
        "selected_columns_iloc = df.iloc[:, [0, 1]]  # Assuming Name is the first column and Age is the second\n",
        "print(\"\\nSelected Columns using df.loc:\\n\", selected_columns_loc)\n",
        "print(\"\\nSelected Columns using df.iloc:\\n\", selected_columns_iloc)\n",
        "\n",
        "# Selecting Rows\n",
        "# Method 1: Using boolean indexing\n",
        "selected_rows = df[df['Age'] > 30]\n",
        "print(\"\\nSelected Rows where Age > 30:\\n\", selected_rows)\n",
        "\n",
        "# Method 2: Using df.loc or df.iloc\n",
        "selected_rows_loc = df.loc[df['Age'] > 30]\n",
        "selected_rows_iloc = df.iloc[(df['Age'] > 30).values]\n",
        "print(\"\\nSelected Rows using df.loc:\\n\", selected_rows_loc)\n",
        "print(\"\\nSelected Rows using df.iloc:\\n\", selected_rows_iloc)\n"
      ],
      "metadata": {
        "colab": {
          "base_uri": "https://localhost:8080/"
        },
        "id": "krd165I2sNmN",
        "outputId": "86c80860-7d6d-4bb4-b68c-78b644658862"
      },
      "execution_count": null,
      "outputs": [
        {
          "output_type": "stream",
          "name": "stdout",
          "text": [
            "Selected Columns (Name and Age):\n",
            "      Name  Age\n",
            "0    John   25\n",
            "1    Emma   30\n",
            "2    Ryan   28\n",
            "3  Sophia   35\n",
            "4    Liam   40\n",
            "\n",
            "Selected Columns using df.loc:\n",
            "      Name  Age\n",
            "0    John   25\n",
            "1    Emma   30\n",
            "2    Ryan   28\n",
            "3  Sophia   35\n",
            "4    Liam   40\n",
            "\n",
            "Selected Columns using df.iloc:\n",
            "      Name  Age\n",
            "0    John   25\n",
            "1    Emma   30\n",
            "2    Ryan   28\n",
            "3  Sophia   35\n",
            "4    Liam   40\n",
            "\n",
            "Selected Rows where Age > 30:\n",
            "      Name  Age Gender  Salary\n",
            "3  Sophia   35      F   70000\n",
            "4    Liam   40      M   65000\n",
            "\n",
            "Selected Rows using df.loc:\n",
            "      Name  Age Gender  Salary\n",
            "3  Sophia   35      F   70000\n",
            "4    Liam   40      M   65000\n",
            "\n",
            "Selected Rows using df.iloc:\n",
            "      Name  Age Gender  Salary\n",
            "3  Sophia   35      F   70000\n",
            "4    Liam   40      M   65000\n"
          ]
        }
      ]
    },
    {
      "cell_type": "markdown",
      "source": [
        "15. Filtering a Dataframe"
      ],
      "metadata": {
        "id": "m5-lf3bsshuk"
      }
    },
    {
      "cell_type": "code",
      "source": [
        "import pandas as pd\n",
        "# Creating a sample DataFrame\n",
        "data = {'Name': ['John', 'Emma', 'Ryan', 'Sophia', 'Liam'],\n",
        "        'Age': [25, 30, 28, 35, 40],\n",
        "        'Gender': ['M', 'F', 'M', 'F', 'M'],\n",
        "        'Salary': [50000, 60000, 55000, 70000, 65000]}\n",
        "df = pd.DataFrame(data)\n",
        "\n",
        "# Filtering DataFrame\n",
        "# Filter rows where Age is greater than 30\n",
        "filtered_df = df[df['Age'] > 30]\n",
        "print(\"Filtered DataFrame (Age > 30):\\n\", filtered_df)\n",
        "\n",
        "# Filter rows where Gender is 'F'\n",
        "filtered_df = df[df['Gender'] == 'F']\n",
        "print(\"\\nFiltered DataFrame (Gender == 'F'):\\n\", filtered_df)\n",
        "\n",
        "# Filter rows based on multiple conditions\n",
        "filtered_df = df[(df['Age'] > 30) & (df['Gender'] == 'F')]\n",
        "print(\"\\nFiltered DataFrame (Age > 30 and Gender == 'F'):\\n\", filtered_df)\n"
      ],
      "metadata": {
        "colab": {
          "base_uri": "https://localhost:8080/"
        },
        "id": "NqmS-nEosrIt",
        "outputId": "a577af34-b0b1-40fe-fed5-0f666c33d666"
      },
      "execution_count": null,
      "outputs": [
        {
          "output_type": "stream",
          "name": "stdout",
          "text": [
            "Filtered DataFrame (Age > 30):\n",
            "      Name  Age Gender  Salary\n",
            "3  Sophia   35      F   70000\n",
            "4    Liam   40      M   65000\n",
            "\n",
            "Filtered DataFrame (Gender == 'F'):\n",
            "      Name  Age Gender  Salary\n",
            "1    Emma   30      F   60000\n",
            "3  Sophia   35      F   70000\n",
            "\n",
            "Filtered DataFrame (Age > 30 and Gender == 'F'):\n",
            "      Name  Age Gender  Salary\n",
            "3  Sophia   35      F   70000\n"
          ]
        }
      ]
    },
    {
      "cell_type": "markdown",
      "source": [
        "16. Adding new columns\n"
      ],
      "metadata": {
        "id": "6jLdxjHts0p9"
      }
    },
    {
      "cell_type": "code",
      "source": [
        "import pandas as pd\n",
        "# Creating a sample DataFrame\n",
        "data = {'Name': ['John', 'Emma', 'Ryan', 'Sophia', 'Liam'],\n",
        "        'Age': [25, 30, 28, 35, 40],\n",
        "        'Gender': ['M', 'F', 'M', 'F', 'M'],\n",
        "        'Salary': [50000, 60000, 55000, 70000, 65000]}\n",
        "df = pd.DataFrame(data)\n",
        "\n",
        "# Adding new columns\n",
        "# Method 1: Using indexing\n",
        "df['Department'] = ['HR', 'Finance', 'IT', 'Marketing', 'Operations']\n",
        "print(\"DataFrame with new 'Department' column:\\n\", df)\n",
        "\n",
        "# Method 2: Using assign method\n",
        "df = df.assign(Experience=[3, 5, 7, 8, 6])\n",
        "print(\"\\nDataFrame with new 'Experience' column:\\n\", df)\n",
        "\n",
        "# Method 3: Using insert method\n",
        "df.insert(loc=4, column='Location', value=['New York', 'London', 'San Francisco', 'Paris', 'Sydney'])\n",
        "print(\"\\nDataFrame with new 'Location' column:\\n\", df)\n"
      ],
      "metadata": {
        "colab": {
          "base_uri": "https://localhost:8080/"
        },
        "id": "Wzuq7PkBs2QU",
        "outputId": "73d00e03-c4d2-4556-e021-4d551b90df4d"
      },
      "execution_count": null,
      "outputs": [
        {
          "output_type": "stream",
          "name": "stdout",
          "text": [
            "DataFrame with new 'Department' column:\n",
            "      Name  Age Gender  Salary  Department\n",
            "0    John   25      M   50000          HR\n",
            "1    Emma   30      F   60000     Finance\n",
            "2    Ryan   28      M   55000          IT\n",
            "3  Sophia   35      F   70000   Marketing\n",
            "4    Liam   40      M   65000  Operations\n",
            "\n",
            "DataFrame with new 'Experience' column:\n",
            "      Name  Age Gender  Salary  Department  Experience\n",
            "0    John   25      M   50000          HR           3\n",
            "1    Emma   30      F   60000     Finance           5\n",
            "2    Ryan   28      M   55000          IT           7\n",
            "3  Sophia   35      F   70000   Marketing           8\n",
            "4    Liam   40      M   65000  Operations           6\n",
            "\n",
            "DataFrame with new 'Location' column:\n",
            "      Name  Age Gender  Salary       Location  Department  Experience\n",
            "0    John   25      M   50000       New York          HR           3\n",
            "1    Emma   30      F   60000         London     Finance           5\n",
            "2    Ryan   28      M   55000  San Francisco          IT           7\n",
            "3  Sophia   35      F   70000          Paris   Marketing           8\n",
            "4    Liam   40      M   65000         Sydney  Operations           6\n"
          ]
        }
      ]
    },
    {
      "cell_type": "markdown",
      "source": [
        "17. Dataframe function – astype()\n"
      ],
      "metadata": {
        "id": "uYJWexEltML9"
      }
    },
    {
      "cell_type": "code",
      "source": [
        "import pandas as pd\n",
        "\n",
        "# Creating a sample DataFrame with mixed data types\n",
        "data = {'A': [1, 2, 3, 4, 5],\n",
        "        'B': ['a', 'b', 'c', 'd', 'e'],\n",
        "        'C': [1.1, 2.2, 3.3, 4.4, 5.5]}\n",
        "df = pd.DataFrame(data)\n",
        "\n",
        "# Checking data types of columns\n",
        "print(\"Original DataFrame:\")\n",
        "print(df.dtypes)\n",
        "\n",
        "# Using astype() to convert data types\n",
        "df['A'] = df['A'].astype(float)  # Convert column 'A' to float\n",
        "df['B'] = df['B'].astype(str)    # Convert column 'B' to string\n",
        "df['C'] = df['C'].astype(int)    # Convert column 'C' to integer\n",
        "\n",
        "# Checking data types after conversion\n",
        "print(\"\\nDataFrame after astype() conversion:\")\n",
        "print(df.dtypes)\n"
      ],
      "metadata": {
        "colab": {
          "base_uri": "https://localhost:8080/"
        },
        "id": "E26FHcT0thTl",
        "outputId": "70bc3960-01fa-439e-e6e3-9b1e120018e8"
      },
      "execution_count": null,
      "outputs": [
        {
          "output_type": "stream",
          "name": "stdout",
          "text": [
            "Original DataFrame:\n",
            "A      int64\n",
            "B     object\n",
            "C    float64\n",
            "dtype: object\n",
            "\n",
            "DataFrame after astype() conversion:\n",
            "A    float64\n",
            "B     object\n",
            "C      int64\n",
            "dtype: object\n"
          ]
        }
      ]
    },
    {
      "cell_type": "markdown",
      "source": [
        "18. Write to CSV file:\n"
      ],
      "metadata": {
        "id": "PCdxEJL0ueDP"
      }
    },
    {
      "cell_type": "code",
      "source": [
        "# Export the modified DataFrame to a new CSV file with the added 'Total' column\n",
        "df.to_csv('student_scores_with_total.csv', index=False)"
      ],
      "metadata": {
        "id": "4EgaPdnMui-W"
      },
      "execution_count": null,
      "outputs": []
    }
  ]
}