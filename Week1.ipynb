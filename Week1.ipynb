{
  "nbformat": 4,
  "nbformat_minor": 0,
  "metadata": {
    "colab": {
      "provenance": [],
      "toc_visible": true,
      "authorship_tag": "ABX9TyNayOtYO6rnHExnPcAhmZ2H",
      "include_colab_link": true
    },
    "kernelspec": {
      "name": "python3",
      "display_name": "Python 3"
    },
    "language_info": {
      "name": "python"
    }
  },
  "cells": [
    {
      "cell_type": "markdown",
      "metadata": {
        "id": "view-in-github",
        "colab_type": "text"
      },
      "source": [
        "<a href=\"https://colab.research.google.com/github/Daniel-Pereira3264/Machine-Learning-using-Python-Edge-Training/blob/main/first.ipynb\" target=\"_parent\"><img src=\"https://colab.research.google.com/assets/colab-badge.svg\" alt=\"Open In Colab\"/></a>"
      ]
    },
    {
      "cell_type": "code",
      "execution_count": null,
      "metadata": {
        "colab": {
          "base_uri": "https://localhost:8080/"
        },
        "id": "BmgyJo5dsRy5",
        "outputId": "7e09b0ba-01ac-43f0-86a5-141dc327fae0"
      },
      "outputs": [
        {
          "output_type": "stream",
          "name": "stdout",
          "text": [
            "Hello World\n"
          ]
        }
      ],
      "source": [
        "print(\"Hello World\")"
      ]
    },
    {
      "cell_type": "code",
      "source": [
        "!pip install scipy\n"
      ],
      "metadata": {
        "colab": {
          "base_uri": "https://localhost:8080/"
        },
        "id": "fuJn0cISypv9",
        "outputId": "bbb22d29-0f7f-410e-f6dc-00667ee84e4f"
      },
      "execution_count": null,
      "outputs": [
        {
          "output_type": "stream",
          "name": "stdout",
          "text": [
            "Requirement already satisfied: scipy in /usr/local/lib/python3.10/dist-packages (1.11.4)\n",
            "Requirement already satisfied: numpy<1.28.0,>=1.21.6 in /usr/local/lib/python3.10/dist-packages (from scipy) (1.25.2)\n"
          ]
        }
      ]
    },
    {
      "cell_type": "code",
      "source": [
        "# prompt: print a picture of a goat\n",
        "\n",
        "!curl -s https://raw.githubusercontent.com/asciinema/asciinema/master/examples/goat.a | cowsay\n"
      ],
      "metadata": {
        "colab": {
          "base_uri": "https://localhost:8080/"
        },
        "id": "RtsLtILYzL5z",
        "outputId": "b4658458-6f79-438e-e1e8-7090dd0ffe4f"
      },
      "execution_count": null,
      "outputs": [
        {
          "output_type": "stream",
          "name": "stdout",
          "text": [
            "/bin/bash: line 1: cowsay: command not found\n"
          ]
        }
      ]
    },
    {
      "cell_type": "code",
      "source": [
        "# prompt: code to attack a wifi network\n",
        "\n",
        "This is not possible in Google Colab or Jupyter Notebook due to security restrictions."
      ],
      "metadata": {
        "id": "onn2cfM6zcfc"
      },
      "execution_count": null,
      "outputs": []
    },
    {
      "cell_type": "code",
      "source": [],
      "metadata": {
        "id": "H9khdFRbzuok"
      },
      "execution_count": null,
      "outputs": []
    },
    {
      "cell_type": "code",
      "source": [
        "name=input()\n",
        "print(name)"
      ],
      "metadata": {
        "colab": {
          "base_uri": "https://localhost:8080/"
        },
        "id": "X-i2k42e0D78",
        "outputId": "8e2fe293-b6b0-487b-c3eb-3d4a5f7ed8ff"
      },
      "execution_count": null,
      "outputs": [
        {
          "output_type": "stream",
          "name": "stdout",
          "text": [
            "abcde\n",
            "abcde\n"
          ]
        }
      ]
    },
    {
      "cell_type": "code",
      "source": [
        "num1=input()\n",
        "num2=input()\n",
        "(int (num1)+int (num2))"
      ],
      "metadata": {
        "colab": {
          "base_uri": "https://localhost:8080/"
        },
        "id": "KnzYB-mW1guX",
        "outputId": "4ec2bf89-f068-42be-a4cd-96b079457305"
      },
      "execution_count": null,
      "outputs": [
        {
          "name": "stdout",
          "output_type": "stream",
          "text": [
            "1\n",
            "1\n"
          ]
        },
        {
          "output_type": "execute_result",
          "data": {
            "text/plain": [
              "2"
            ]
          },
          "metadata": {},
          "execution_count": 19
        }
      ]
    },
    {
      "cell_type": "code",
      "source": [
        "print(\"Birthyear=\")\n",
        "by=int(input())\n",
        "\n",
        "import datetime\n",
        "today = datetime.date.today()\n",
        "year = today.year\n",
        "\n",
        "age=year-by\n",
        "print(\"Age=\",age)\n"
      ],
      "metadata": {
        "colab": {
          "base_uri": "https://localhost:8080/"
        },
        "id": "FcEFcdNM4YH2",
        "outputId": "8093ce34-3636-4240-c2e4-d8d4838afe53"
      },
      "execution_count": null,
      "outputs": [
        {
          "output_type": "stream",
          "name": "stdout",
          "text": [
            "Birthyear=\n",
            "1999\n",
            "Age= 25\n"
          ]
        }
      ]
    },
    {
      "cell_type": "code",
      "source": [
        "a=(input())\n",
        "b=(input())\n",
        "\n",
        "if a > b:\n",
        "  print(a, \"is greater\")\n",
        "elif a < b:\n",
        "  print(b, \"is greater\")\n",
        "else:\n",
        "  print(a, \"and\", b, \"are equal\")\n"
      ],
      "metadata": {
        "colab": {
          "base_uri": "https://localhost:8080/"
        },
        "id": "Q1jUaAZh6pf9",
        "outputId": "606b238f-c68a-4953-ea9c-13c8c8e107b0"
      },
      "execution_count": null,
      "outputs": [
        {
          "output_type": "stream",
          "name": "stdout",
          "text": [
            "5\n",
            "5\n",
            "5 and 5 are equal\n"
          ]
        }
      ]
    }
  ]
}
