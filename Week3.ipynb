{
  "nbformat": 4,
  "nbformat_minor": 0,
  "metadata": {
    "colab": {
      "provenance": [],
      "authorship_tag": "ABX9TyPzCFBweMUHcI5R08uUpmeW",
      "include_colab_link": true
    },
    "kernelspec": {
      "name": "python3",
      "display_name": "Python 3"
    },
    "language_info": {
      "name": "python"
    }
  },
  "cells": [
    {
      "cell_type": "markdown",
      "metadata": {
        "id": "view-in-github",
        "colab_type": "text"
      },
      "source": [
        "<a href=\"https://colab.research.google.com/github/Daniel-Pereira3264/Machine-Learning-using-Python-Edge-Training/blob/main/Week3.ipynb\" target=\"_parent\"><img src=\"https://colab.research.google.com/assets/colab-badge.svg\" alt=\"Open In Colab\"/></a>"
      ]
    },
    {
      "cell_type": "markdown",
      "source": [
        "1. Creating Function"
      ],
      "metadata": {
        "id": "sd19_i1mfkVf"
      }
    },
    {
      "cell_type": "code",
      "execution_count": null,
      "metadata": {
        "colab": {
          "base_uri": "https://localhost:8080/"
        },
        "id": "aH8a30idego8",
        "outputId": "775593c4-0b5f-45df-8314-51814e0b72d4"
      },
      "outputs": [
        {
          "output_type": "stream",
          "name": "stdout",
          "text": [
            "Addition is = 5\n"
          ]
        }
      ],
      "source": [
        "def add(a, b):\n",
        "  print(f'Addition is = {a + b}')\n",
        "\n",
        "add(2, 3)"
      ]
    },
    {
      "cell_type": "markdown",
      "source": [
        "2. Using Arguments"
      ],
      "metadata": {
        "id": "f33zFJFihc0H"
      }
    },
    {
      "cell_type": "code",
      "source": [
        "def printname(*args):\n",
        "  for name in args:\n",
        "    print ('Names are => ', name)\n",
        "\n",
        "printname('Daniel','Deep','Pereira')\n"
      ],
      "metadata": {
        "colab": {
          "base_uri": "https://localhost:8080/"
        },
        "id": "FkP0vh36hgeO",
        "outputId": "34480751-84ee-4c40-f223-3709c67e75ec"
      },
      "execution_count": null,
      "outputs": [
        {
          "output_type": "stream",
          "name": "stdout",
          "text": [
            "Names are =>  Daniel\n",
            "Names are =>  Deep\n",
            "Names are =>  Pereira\n"
          ]
        }
      ]
    },
    {
      "cell_type": "code",
      "source": [
        "def printname(*args):\n",
        "  fullname =\"\"\n",
        "  for name in args:\n",
        "   fullname = fullname +name\n",
        "  print(\"Name is =\", fullname)\n",
        "\n",
        "printname('Daniel ','Deep ','Pereira ')"
      ],
      "metadata": {
        "colab": {
          "base_uri": "https://localhost:8080/"
        },
        "id": "HfXGwa3fi5vu",
        "outputId": "7308f028-f0a9-4bf2-b515-ccf29b9b0ecf"
      },
      "execution_count": null,
      "outputs": [
        {
          "output_type": "stream",
          "name": "stdout",
          "text": [
            "Name is = Daniel Deep Pereira \n"
          ]
        }
      ]
    },
    {
      "cell_type": "markdown",
      "source": [
        "3. Using kwargs"
      ],
      "metadata": {
        "id": "BlJp6OYkkY0-"
      }
    },
    {
      "cell_type": "code",
      "source": [
        "def print_info(**kwargs):\n",
        "  for key, value in kwargs.items():\n",
        "    print(f\"{key}: {value}\")\n",
        "\n",
        "print_info(name=\"Alice\", age=30, profession=\"Engineer\")"
      ],
      "metadata": {
        "colab": {
          "base_uri": "https://localhost:8080/"
        },
        "id": "XAOGS6hlkrlu",
        "outputId": "ee1ac477-20f6-45a9-d1a0-ed7de2f5f8b5"
      },
      "execution_count": null,
      "outputs": [
        {
          "output_type": "stream",
          "name": "stdout",
          "text": [
            "name: Alice\n",
            "age: 30\n",
            "profession: Engineer\n"
          ]
        }
      ]
    },
    {
      "cell_type": "markdown",
      "source": [
        "4. default values"
      ],
      "metadata": {
        "id": "5ApdfOCIk629"
      }
    },
    {
      "cell_type": "code",
      "source": [
        "def defaultvalues(name,email='.cse.jnu.bd'):\n",
        "  print(f'yor info : {name}{email}')\n",
        "\n",
        "defaultvalues('pereira',)\n",
        "defaultvalues('daniel','@gmail.com')"
      ],
      "metadata": {
        "colab": {
          "base_uri": "https://localhost:8080/"
        },
        "id": "WnPjsNKNlBi1",
        "outputId": "f722c1c9-33d3-4487-f82e-e12cdb567372"
      },
      "execution_count": null,
      "outputs": [
        {
          "output_type": "stream",
          "name": "stdout",
          "text": [
            "yor info : pereira.cse.jnu.bd\n",
            "yor info : daniel@gmail.com\n"
          ]
        }
      ]
    },
    {
      "cell_type": "code",
      "source": [
        "def describe_pet(pet_name, animal_type='dog'):\n",
        "    print(f\"\\nI have a {animal_type}.\")\n",
        "    print(f\"My {animal_type}'s name is {pet_name.title()}.\")\n",
        "describe_pet(pet_name='willie')"
      ],
      "metadata": {
        "colab": {
          "base_uri": "https://localhost:8080/"
        },
        "id": "FdxqlYWQmfGm",
        "outputId": "5414015a-8f78-42e8-e463-382095a91192"
      },
      "execution_count": null,
      "outputs": [
        {
          "output_type": "stream",
          "name": "stdout",
          "text": [
            "\n",
            "I have a dog.\n",
            "My dog's name is Willie.\n"
          ]
        }
      ]
    },
    {
      "cell_type": "markdown",
      "source": [
        "5. Scope of variable"
      ],
      "metadata": {
        "id": "8UM80trBmXqe"
      }
    },
    {
      "cell_type": "code",
      "source": [
        "x = 10 # Global variable\n",
        "def func():\n",
        "  y = 20 # Local variable\n",
        "  print(x) # Access global variable\n",
        "  print(y)\n",
        "func()"
      ],
      "metadata": {
        "colab": {
          "base_uri": "https://localhost:8080/"
        },
        "id": "TMNGjz5Joky9",
        "outputId": "e65e3eaa-29fe-4f1c-c31b-8fb0cd15b7b5"
      },
      "execution_count": null,
      "outputs": [
        {
          "output_type": "stream",
          "name": "stdout",
          "text": [
            "10\n",
            "20\n"
          ]
        }
      ]
    },
    {
      "cell_type": "markdown",
      "source": [
        "6. Nested function"
      ],
      "metadata": {
        "id": "tJj8NbNWoy1j"
      }
    },
    {
      "cell_type": "code",
      "source": [
        "def outer_func():\n",
        "  def inner_func():\n",
        "    return \"Inner function\"\n",
        "  return inner_func()\n",
        "print(outer_func()) # Output: Inner function"
      ],
      "metadata": {
        "colab": {
          "base_uri": "https://localhost:8080/"
        },
        "id": "5rA9yWdmo1-7",
        "outputId": "ee0f13f9-6ce2-49d7-d140-f77193e67ea8"
      },
      "execution_count": null,
      "outputs": [
        {
          "output_type": "stream",
          "name": "stdout",
          "text": [
            "Inner function\n"
          ]
        }
      ]
    },
    {
      "cell_type": "markdown",
      "source": [
        "7. Return from function"
      ],
      "metadata": {
        "id": "o4uFRv4WnxRl"
      }
    },
    {
      "cell_type": "code",
      "source": [
        "def add(a, b):\n",
        "  return a + b\n",
        "\n",
        "result = add(3, 5)\n",
        "print(result) # Output: 8"
      ],
      "metadata": {
        "colab": {
          "base_uri": "https://localhost:8080/"
        },
        "id": "Mek1H0Upnt-W",
        "outputId": "7f910a85-5712-48d5-981f-ecd2e169d58d"
      },
      "execution_count": null,
      "outputs": [
        {
          "output_type": "stream",
          "name": "stdout",
          "text": [
            "8\n"
          ]
        }
      ]
    },
    {
      "cell_type": "markdown",
      "source": [
        "8. List as parameter"
      ],
      "metadata": {
        "id": "bnhFyPzYpsKV"
      }
    },
    {
      "cell_type": "code",
      "source": [
        "def my_function(food):\n",
        "  food = [\"apple\", \"banana\", \"cherry\"]\n",
        "  for x in food:\n",
        "    print(x)\n",
        "fruits = [\"apple\", \"banana\", \"cherry\"]\n",
        "my_function(fruits)"
      ],
      "metadata": {
        "colab": {
          "base_uri": "https://localhost:8080/"
        },
        "id": "Qk5SquQApwrN",
        "outputId": "ddc822d6-02e7-4cb3-8f44-6f17b136883b"
      },
      "execution_count": null,
      "outputs": [
        {
          "output_type": "stream",
          "name": "stdout",
          "text": [
            "apple\n",
            "banana\n",
            "cherry\n"
          ]
        }
      ]
    },
    {
      "cell_type": "markdown",
      "source": [
        "9. Lambda function"
      ],
      "metadata": {
        "id": "aFJ2VkwBqgH9"
      }
    },
    {
      "cell_type": "code",
      "source": [
        "square = lambda x : x ** 2\n",
        "square(5)"
      ],
      "metadata": {
        "colab": {
          "base_uri": "https://localhost:8080/"
        },
        "id": "FEDC6x5eqjtN",
        "outputId": "b4377dcd-2a26-4597-9c99-abe42a264bb2"
      },
      "execution_count": null,
      "outputs": [
        {
          "output_type": "execute_result",
          "data": {
            "text/plain": [
              "25"
            ]
          },
          "metadata": {},
          "execution_count": 37
        }
      ]
    },
    {
      "cell_type": "code",
      "source": [
        "gmail = lambda name : name+\"@gmail.com\"\n",
        "gmail('daniel')"
      ],
      "metadata": {
        "id": "P-917dblrOBF",
        "colab": {
          "base_uri": "https://localhost:8080/",
          "height": 35
        },
        "outputId": "806078c8-caaf-4607-c43c-b4e899d7dd05"
      },
      "execution_count": null,
      "outputs": [
        {
          "output_type": "execute_result",
          "data": {
            "text/plain": [
              "'daniel@gmail.com'"
            ],
            "application/vnd.google.colaboratory.intrinsic+json": {
              "type": "string"
            }
          },
          "metadata": {},
          "execution_count": 38
        }
      ]
    },
    {
      "cell_type": "markdown",
      "source": [
        "10. Lambda with series"
      ],
      "metadata": {
        "id": "9emwnP__y3Ev"
      }
    },
    {
      "cell_type": "code",
      "source": [
        "words = ['banana','apple','pinapple','cherry','mango']\n",
        "sorted_words = sorted(words, key=lambda x : len(x))\n",
        "print(sorted_words)"
      ],
      "metadata": {
        "colab": {
          "base_uri": "https://localhost:8080/"
        },
        "id": "zJca8qJxzv4O",
        "outputId": "037516c8-2e06-4adf-bcbb-cd6c524363fa"
      },
      "execution_count": null,
      "outputs": [
        {
          "output_type": "stream",
          "name": "stdout",
          "text": [
            "['apple', 'mango', 'banana', 'cherry', 'pinapple']\n"
          ]
        }
      ]
    },
    {
      "cell_type": "code",
      "source": [
        "numbers = [3,2,6,5,3,4,9,7,6,4,2,9,1,1,5]\n",
        "sort = sorted(numbers)\n",
        "print(sort)"
      ],
      "metadata": {
        "colab": {
          "base_uri": "https://localhost:8080/"
        },
        "id": "x0s13Xt70nPf",
        "outputId": "5189d752-f66c-40c7-a592-4ee406c8c569"
      },
      "execution_count": null,
      "outputs": [
        {
          "output_type": "stream",
          "name": "stdout",
          "text": [
            "[1, 1, 2, 2, 3, 3, 4, 4, 5, 5, 6, 6, 7, 9, 9]\n"
          ]
        }
      ]
    },
    {
      "cell_type": "markdown",
      "source": [
        "1111111111111111111111111111111111111111111111111111111111111111111111111111111\n"
      ],
      "metadata": {
        "id": "7f4Slp3z8Yty"
      }
    },
    {
      "cell_type": "markdown",
      "source": [
        "Exercise:\n",
        "1. Simple Function Definition: Write a function called greet that takes a name as input and prints a\n",
        "greeting message with the name.\n",
        "2. Default Argument Value: Define a function called say_hello that takes a name as input and\n",
        "prints &quot;Hello, [name]!&quot;. If no name is provided, it should print &quot;Hello, World!&quot;.\n",
        "3. Arbitrary Arguments: Write a function called print_args that accepts any number of arguments\n",
        "and prints each argument on a separate line.\n",
        "4. Sum of Arbitrary Arguments: Create a function named sum_values that accepts any number of\n",
        "integers as arguments and returns the sum of those integers.\n",
        "5. Keyword Arguments: Define a function called show_info that takes a person&#39;s name and age as\n",
        "arguments and prints their information in a formatted string.\n",
        "6. Using Lambda with Map: Write a program to square each element of a list using a lambda\n",
        "function with map().\n",
        "7. Using Lambda with Filter: Create a program to filter out even numbers from a list using a\n",
        "lambda function with filter().\n",
        "8. Using Lambda with Sorted: Sort a list of strings based on their lengths using a lambda function\n",
        "with sorted().\n",
        "9. Nested Function: Write a function called outer that defines an inner function inner. The inner\n",
        "function should return &quot;Inner function called!&quot;. Call the inner function from the outer function\n",
        "and return its result.\n",
        "10. Returning Function from Function: Define a function called create_multiplier that takes a\n",
        "number as input and returns a function that multiplies any given number by the original input\n",
        "number."
      ],
      "metadata": {
        "id": "uGlAlcBt1kOf"
      }
    },
    {
      "cell_type": "markdown",
      "source": [
        "1. Simple Function Definition: Write a function called greet that takes a name as input and prints a\n",
        "greeting message with the name."
      ],
      "metadata": {
        "id": "WgMkqLUR1seF"
      }
    },
    {
      "cell_type": "code",
      "source": [
        "def greet(name):\n",
        "  print(\"Hello \",name)\n",
        "\n",
        "print (\"Whats your name?\")\n",
        "name = input()\n",
        "greet(name)"
      ],
      "metadata": {
        "colab": {
          "base_uri": "https://localhost:8080/"
        },
        "id": "D6OWLT151ySV",
        "outputId": "8ada3c6c-b0f0-4442-e212-ae4845db3db0"
      },
      "execution_count": null,
      "outputs": [
        {
          "output_type": "stream",
          "name": "stdout",
          "text": [
            "Whats your name?\n",
            "Daniel\n",
            "Hello  Daniel\n"
          ]
        }
      ]
    },
    {
      "cell_type": "markdown",
      "source": [
        "2. Default Argument Value: Define a function called say_hello that takes a name as input and\n",
        "prints &quot;Hello, [name]!&quot;. If no name is provided, it should print &quot;Hello, World!&quot;."
      ],
      "metadata": {
        "id": "jNgs8TYL2ttG"
      }
    },
    {
      "cell_type": "code",
      "source": [
        "def greetings(name = 'world'):\n",
        "  print(\"Hello\",name)\n",
        "\n",
        "print (\"What's your name?\")\n",
        "name = input()\n",
        "greetings(name)"
      ],
      "metadata": {
        "colab": {
          "base_uri": "https://localhost:8080/"
        },
        "id": "Hg8NjM_Q2zGt",
        "outputId": "64b19283-2adc-4bc0-afd1-776ca6630cee"
      },
      "execution_count": null,
      "outputs": [
        {
          "output_type": "stream",
          "name": "stdout",
          "text": [
            "What's your name?\n",
            "Hello name\n"
          ]
        }
      ]
    },
    {
      "cell_type": "markdown",
      "source": [
        "3. Arbitrary Arguments: Write a function called print_args that accepts any number of arguments\n",
        "and prints each argument on a separate line."
      ],
      "metadata": {
        "id": "FsSz2sMr3op1"
      }
    },
    {
      "cell_type": "code",
      "source": [
        "def print_args(*args):\n",
        "  for num in args:\n",
        "    print(\"number = \",num)\n",
        "\n",
        "print_args(1,2,3,4,5,6,7,8,9,0)"
      ],
      "metadata": {
        "colab": {
          "base_uri": "https://localhost:8080/"
        },
        "id": "__mkztT73psd",
        "outputId": "938b275b-4a5e-45c4-c229-64588c76c20f"
      },
      "execution_count": null,
      "outputs": [
        {
          "output_type": "stream",
          "name": "stdout",
          "text": [
            "number =  1\n",
            "number =  2\n",
            "number =  3\n",
            "number =  4\n",
            "number =  5\n",
            "number =  6\n",
            "number =  7\n",
            "number =  8\n",
            "number =  9\n",
            "number =  0\n"
          ]
        }
      ]
    },
    {
      "cell_type": "markdown",
      "source": [
        "4. Sum of Arbitrary Arguments: Create a function named sum_values that accepts any number of\n",
        "integers as arguments and returns the sum of those integers."
      ],
      "metadata": {
        "id": "eHTu90o27rck"
      }
    },
    {
      "cell_type": "code",
      "source": [
        "def print_args(*args):\n",
        "  sum =0\n",
        "  for num in args:\n",
        "    sum = sum + num\n",
        "  print(\"number = \",sum)\n",
        "\n",
        "print_args(1,2,3,4,5,6,7,8,9,0)"
      ],
      "metadata": {
        "colab": {
          "base_uri": "https://localhost:8080/"
        },
        "id": "kloYk2MY7lUc",
        "outputId": "da8606f0-54fe-463d-a7e5-812af4bf13ee"
      },
      "execution_count": null,
      "outputs": [
        {
          "output_type": "stream",
          "name": "stdout",
          "text": [
            "number =  45\n"
          ]
        }
      ]
    },
    {
      "cell_type": "markdown",
      "source": [
        "11111111111111111111111111111111111111111111111111111111111111111111111111111111\n"
      ],
      "metadata": {
        "id": "lKMCRLKP8TxL"
      }
    },
    {
      "cell_type": "markdown",
      "source": [
        "Python Modules"
      ],
      "metadata": {
        "id": "hLo4ew_q8PvU"
      }
    },
    {
      "cell_type": "code",
      "source": [],
      "metadata": {
        "id": "axpuBJ2d8W1C"
      },
      "execution_count": null,
      "outputs": []
    }
  ]
}